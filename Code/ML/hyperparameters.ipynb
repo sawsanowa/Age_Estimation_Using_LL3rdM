{
  "cells": [
    {
      "cell_type": "code",
      "execution_count": null,
      "metadata": {
        "id": "JTEZOgFT7-4S"
      },
      "outputs": [],
      "source": [
        "from sklearn import preprocessing, metrics\n",
        "import matplotlib.pyplot as plt\n",
        "import seaborn as sns\n",
        "import pandas as pd\n",
        "from pandas.plotting import scatter_matrix\n",
        "import numpy as np\n",
        "from numpy import mean, std\n",
        "from sklearn.preprocessing import LabelEncoder,StandardScaler\n",
        "#-----------------------------------------------------------\n",
        "from sklearn.metrics import classification_report, confusion_matrix, accuracy_score, precision_score, recall_score, f1_score,ConfusionMatrixDisplay\n",
        "from sklearn.model_selection import train_test_split, cross_val_score, GridSearchCV, KFold\n",
        "from sklearn.pipeline import Pipeline\n",
        "#-----------------------------------------------------------\n",
        "from sklearn.neighbors import KNeighborsClassifier  \n",
        "from sklearn.ensemble import RandomForestClassifier, GradientBoostingClassifier\n",
        "from sklearn.svm import SVC\n",
        "from sklearn.tree import DecisionTreeClassifier\n",
        "from sklearn.linear_model import LogisticRegression\n",
        "from sklearn.neural_network import MLPClassifier\n",
        "from sklearn.naive_bayes import GaussianNB\n",
        "from sklearn.discriminant_analysis import LinearDiscriminantAnalysis\n",
        "from sklearn import tree,ensemble"
      ]
    },
    {
      "cell_type": "code",
      "execution_count": null,
      "metadata": {
        "id": "8QMsxix98SW5"
      },
      "outputs": [],
      "source": [
        "df = pd.read_csv('ALL_orig_order.csv',usecols=['gender','apex1','apex2','height','Index','age_group'])"
      ]
    },
    {
      "cell_type": "markdown",
      "metadata": {
        "id": "0WNvg2NBewM-"
      },
      "source": [
        "**Pre-processing**"
      ]
    },
    {
      "cell_type": "code",
      "execution_count": null,
      "metadata": {
        "id": "EFWx_AxZGTE0",
        "colab": {
          "base_uri": "https://localhost:8080/",
          "height": 36
        },
        "outputId": "22921d94-189d-48a8-db7c-dc9ad630e64b"
      },
      "outputs": [
        {
          "output_type": "execute_result",
          "data": {
            "text/plain": [
              "'\\nle = LabelEncoder()\\nX[:,0] = le.fit_transform(X[:,0])\\n'"
            ],
            "application/vnd.google.colaboratory.intrinsic+json": {
              "type": "string"
            }
          },
          "metadata": {},
          "execution_count": 3
        }
      ],
      "source": [
        "'''\n",
        "le = LabelEncoder()\n",
        "X[:,0] = le.fit_transform(X[:,0])\n",
        "'''"
      ]
    },
    {
      "cell_type": "code",
      "source": [
        "col=['gender','age_group']\n",
        "df[col] = df[col].apply(LabelEncoder().fit_transform)"
      ],
      "metadata": {
        "id": "PS7IXVkyO3pi"
      },
      "execution_count": null,
      "outputs": []
    },
    {
      "cell_type": "code",
      "execution_count": null,
      "metadata": {
        "id": "yh8dv6XLHKA2"
      },
      "outputs": [],
      "source": [
        "X = df.iloc[:, [0, 1, 2, 3, 4]].values\n",
        "y = df.iloc[:, -1].values"
      ]
    },
    {
      "cell_type": "code",
      "execution_count": null,
      "metadata": {
        "id": "PYe61TTIGuSG"
      },
      "outputs": [],
      "source": [
        "X_train, X_test, y_train, y_test = train_test_split(X, y, test_size=0.2, stratify=y, random_state=42)"
      ]
    },
    {
      "cell_type": "code",
      "execution_count": null,
      "metadata": {
        "id": "0BCqJZaGj9p7"
      },
      "outputs": [],
      "source": [
        "#feature Scaling  \n",
        "scaler= StandardScaler()    \n",
        "X_train= scaler.fit_transform(X_train)    \n",
        "X_test= scaler.transform(X_test)  "
      ]
    },
    {
      "cell_type": "markdown",
      "metadata": {
        "id": "bIuSteiVQ2JG"
      },
      "source": [
        "**Finding the best hyperparameters for all the classifiers 🔛**"
      ]
    },
    {
      "cell_type": "code",
      "execution_count": null,
      "metadata": {
        "id": "p-35sxzK-CRM"
      },
      "outputs": [],
      "source": [
        "cv = KFold(n_splits=10)"
      ]
    },
    {
      "cell_type": "markdown",
      "metadata": {
        "id": "eWX3IqPQRILE"
      },
      "source": [
        "***1- Decision Tree 🌳***"
      ]
    },
    {
      "cell_type": "code",
      "execution_count": null,
      "metadata": {
        "colab": {
          "base_uri": "https://localhost:8080/"
        },
        "id": "Y0wQRBRhRPhH",
        "outputId": "5740873b-fca2-4714-8416-d2a28cefe7b4"
      },
      "outputs": [
        {
          "output_type": "stream",
          "name": "stdout",
          "text": [
            "Average score(1): 0.823\n",
            "Average score(2): 0.810\n",
            "Average score(3): 0.828\n",
            "Average score(4): 0.848\n",
            "Average score(5): 0.838\n",
            "Average score(6): 0.838\n",
            "Average score(7): 0.828\n",
            "Average score(8): 0.818\n",
            "Average score(9): 0.825\n",
            "Average score(10): 0.825\n"
          ]
        }
      ],
      "source": [
        "max_depth = [1,2,3,4,5,6,7,8,9,10]\n",
        "\n",
        "\n",
        "for val in max_depth:\n",
        "    score = cross_val_score(tree.DecisionTreeClassifier(max_depth= val, random_state= 42), X_train, y_train, cv= cv, scoring=\"accuracy\")\n",
        "    print(f'Average score({val}): {\"{:.3f}\".format(score.mean())}')"
      ]
    },
    {
      "cell_type": "code",
      "execution_count": null,
      "metadata": {
        "colab": {
          "base_uri": "https://localhost:8080/"
        },
        "id": "0j1wHwBJZgv3",
        "outputId": "85aa3488-be3d-46dc-9a61-29bc515a9bcb"
      },
      "outputs": [
        {
          "output_type": "stream",
          "name": "stdout",
          "text": [
            "best_params:\n",
            " {'criterion': 'gini', 'max_depth': 4} \n",
            " best_estimator:\n",
            " DecisionTreeClassifier(max_depth=4) \n",
            " best_score:\n",
            " 0.8458839406207828\n"
          ]
        }
      ],
      "source": [
        "decision_tree=DecisionTreeClassifier()\n",
        "#decision_tree.fit(X_train, y_train)\n",
        "\n",
        "param_dict={\n",
        "    \"criterion\" : ['gini', 'entropy'],\n",
        "    \"max_depth\" : range(1,10),\n",
        "}\n",
        "\n",
        "grid=GridSearchCV(decision_tree, param_grid=param_dict, cv=cv)\n",
        "grid.fit(X_train, y_train)\n",
        "\n",
        "print(\"best_params:\\n\",grid.best_params_,\"\\n\",\"best_estimator:\\n\",grid.best_estimator_,\"\\n\",\"best_score:\\n\",grid.best_score_)\n"
      ]
    },
    {
      "cell_type": "markdown",
      "metadata": {
        "id": "5idqm1iuY0qd"
      },
      "source": [
        "***2- Random Forest 🌳 🌲 🌳***"
      ]
    },
    {
      "cell_type": "code",
      "execution_count": null,
      "metadata": {
        "colab": {
          "base_uri": "https://localhost:8080/"
        },
        "id": "kLWUjqNTXS-D",
        "outputId": "8e4117bd-d100-44f8-cdbe-82ed09b2a0d3"
      },
      "outputs": [
        {
          "output_type": "stream",
          "name": "stdout",
          "text": [
            "Average score(50): 0.843\n",
            "Average score(100): 0.846\n",
            "Average score(150): 0.846\n",
            "Average score(200): 0.846\n",
            "Average score(250): 0.848\n",
            "Average score(300): 0.848\n",
            "Average score(350): 0.848\n"
          ]
        }
      ],
      "source": [
        "n_estimators = [50, 100, 150, 200, 250, 300, 350]\n",
        "\n",
        "for val in n_estimators:\n",
        "    score = cross_val_score(ensemble.RandomForestClassifier(n_estimators= val, random_state= 42), X_train, y_train, cv=cv)\n",
        "    print(f'Average score({val}): {\"{:.3f}\".format(score.mean())}')"
      ]
    },
    {
      "cell_type": "code",
      "execution_count": null,
      "metadata": {
        "colab": {
          "base_uri": "https://localhost:8080/"
        },
        "id": "Plq3pz194QNH",
        "outputId": "eef30dac-6bd0-4849-f0f0-5181ce4e4fdb"
      },
      "outputs": [
        {
          "output_type": "stream",
          "name": "stdout",
          "text": [
            "best_params:\n",
            " {'criterion': 'entropy', 'max_depth': 5, 'n_estimators': 300} \n",
            " best_estimator:\n",
            " RandomForestClassifier(criterion='entropy', max_depth=5, n_estimators=300) \n",
            " best_score:\n",
            " 0.8638326585695006\n"
          ]
        }
      ],
      "source": [
        "Random_Forest= RandomForestClassifier()\n",
        "\n",
        "param_dict={\n",
        "    \"criterion\" : ['gini', 'entropy'],\n",
        "    \"max_depth\" : range(1,10),\n",
        "    \"n_estimators\" : [50, 100, 150, 200, 250, 300, 350]\n",
        "}\n",
        "\n",
        "grid=GridSearchCV(Random_Forest, param_grid=param_dict, cv=cv)\n",
        "grid.fit(X_train, y_train)\n",
        "\n",
        "print(\"best_params:\\n\",grid.best_params_,\"\\n\",\"best_estimator:\\n\",grid.best_estimator_,\"\\n\",\"best_score:\\n\",grid.best_score_)"
      ]
    },
    {
      "cell_type": "markdown",
      "metadata": {
        "id": "WMF3Bh2u-6Ei"
      },
      "source": [
        "***3- Linear Discriminant Analysis***"
      ]
    },
    {
      "cell_type": "code",
      "execution_count": null,
      "metadata": {
        "colab": {
          "base_uri": "https://localhost:8080/"
        },
        "id": "e0jas45Y-4Tq",
        "outputId": "f3277fed-17e0-4586-f1a7-38abe918bace"
      },
      "outputs": [
        {
          "output_type": "stream",
          "name": "stdout",
          "text": [
            "best_params:\n",
            " {'solver': 'svd'} \n",
            " best_estimator:\n",
            " LinearDiscriminantAnalysis() \n",
            " best_score:\n",
            " 0.8407557354925776\n"
          ]
        }
      ],
      "source": [
        "Linear_Discriminant_Analysis= LinearDiscriminantAnalysis()\n",
        "\n",
        "param_dict={\n",
        "    \"solver\" : [\"svd\", \"lsqr\", \"eigen\"]\n",
        "   \n",
        "}\n",
        "\n",
        "grid=GridSearchCV(Linear_Discriminant_Analysis, param_grid=param_dict, cv=cv)\n",
        "grid.fit(X_train, y_train)\n",
        "\n",
        "print(\"best_params:\\n\",grid.best_params_,\"\\n\",\"best_estimator:\\n\",grid.best_estimator_,\"\\n\",\"best_score:\\n\",grid.best_score_)"
      ]
    },
    {
      "cell_type": "markdown",
      "metadata": {
        "id": "SMrAJNypGj2b"
      },
      "source": [
        "***4- Gradient Boosting***"
      ]
    },
    {
      "cell_type": "code",
      "execution_count": null,
      "metadata": {
        "colab": {
          "base_uri": "https://localhost:8080/"
        },
        "id": "zRj2zLiqGiBC",
        "outputId": "5254fa2d-4d88-46cc-8b36-c28a7c009119"
      },
      "outputs": [
        {
          "output_type": "stream",
          "name": "stdout",
          "text": [
            "best_params:\n",
            " {'learning_rate': 0.1, 'max_depth': 6, 'n_estimators': 200} \n",
            " best_estimator:\n",
            " GradientBoostingClassifier(max_depth=6, n_estimators=200) \n",
            " best_score:\n",
            " 0.8663967611336034\n"
          ]
        }
      ],
      "source": [
        "Gradient_Boosting= GradientBoostingClassifier()\n",
        "\n",
        "param_dict={\n",
        "    \"n_estimators\":[50, 100, 150, 200, 250, 300, 350],\n",
        "    \"max_depth\" : range(1,10),\n",
        "    \"learning_rate\":[0.0001, 0.001, 0.01, 0.1, 0.2, 0.3]\n",
        "   \n",
        "}\n",
        "\n",
        "grid=GridSearchCV(Gradient_Boosting, param_grid=param_dict, cv=cv)\n",
        "grid.fit(X_train, y_train)\n",
        "\n",
        "print(\"best_params:\\n\",grid.best_params_,\"\\n\",\"best_estimator:\\n\",grid.best_estimator_,\"\\n\",\"best_score:\\n\",grid.best_score_)"
      ]
    },
    {
      "cell_type": "code",
      "execution_count": null,
      "metadata": {
        "colab": {
          "base_uri": "https://localhost:8080/"
        },
        "id": "fqPCVNRh9rxZ",
        "outputId": "a22bc389-ddb8-4dc5-ce11-61a384b84408"
      },
      "outputs": [
        {
          "output_type": "stream",
          "name": "stdout",
          "text": [
            "Average score(50): 0.787\n",
            "Average score(100): 0.795\n",
            "Average score(150): 0.797\n",
            "Average score(200): 0.791\n",
            "Average score(250): 0.789\n",
            "Average score(300): 0.781\n",
            "Average score(350): 0.777\n"
          ]
        }
      ],
      "source": [
        "n_estimators = [50, 100, 150, 200, 250, 300, 350]\n",
        "\n",
        "for val in n_estimators:\n",
        "    score = cross_val_score(ensemble.GradientBoostingClassifier(n_estimators= val, random_state= 42), X, y, cv=cv, scoring=\"accuracy\")\n",
        "    print(f'Average score({val}): {\"{:.3f}\".format(score.mean())}')"
      ]
    },
    {
      "cell_type": "markdown",
      "metadata": {
        "id": "GX-yO-U0zqlH"
      },
      "source": [
        "***5- Logistic Regression***"
      ]
    },
    {
      "cell_type": "code",
      "execution_count": null,
      "metadata": {
        "colab": {
          "base_uri": "https://localhost:8080/"
        },
        "id": "_kTAeok-zx_A",
        "outputId": "d8e032f3-8296-4444-d254-de11efdaf5de"
      },
      "outputs": [
        {
          "output_type": "stream",
          "name": "stdout",
          "text": [
            "best_params:\n",
            " {'max_iter': 100, 'penalty': 'l2', 'solver': 'liblinear'} \n",
            " best_estimator:\n",
            " LogisticRegression(solver='liblinear') \n",
            " best_score:\n",
            " 0.8407557354925776\n"
          ]
        }
      ],
      "source": [
        "Logistic_Regression= LogisticRegression()\n",
        "\n",
        "param_dict={\n",
        "    'penalty' : ['l2', 'l1'],\n",
        "    'solver' : ['liblinear'],\n",
        "    'max_iter' : range(100,1000)\n",
        "    \n",
        "   \n",
        "}\n",
        "\n",
        "grid=GridSearchCV(Logistic_Regression, param_grid=param_dict, cv=cv)\n",
        "grid.fit(X_train, y_train)\n",
        "\n",
        "print(\"best_params:\\n\",grid.best_params_,\"\\n\",\"best_estimator:\\n\",grid.best_estimator_,\"\\n\",\"best_score:\\n\",grid.best_score_)"
      ]
    },
    {
      "cell_type": "markdown",
      "metadata": {
        "id": "Gw_4rE-f5ix4"
      },
      "source": [
        "***6- Support Vector Machine***"
      ]
    },
    {
      "cell_type": "code",
      "execution_count": null,
      "metadata": {
        "colab": {
          "base_uri": "https://localhost:8080/"
        },
        "id": "O-QxzG8z5fMq",
        "outputId": "16fd5f8f-4c2e-47ac-bcb3-a98d0e756fa8"
      },
      "outputs": [
        {
          "output_type": "stream",
          "name": "stdout",
          "text": [
            "best_params:\n",
            " {'C': 1, 'kernel': 'linear'} \n",
            " best_estimator:\n",
            " SVC(C=1, kernel='linear') \n",
            " best_score:\n",
            " 0.8407557354925774\n"
          ]
        }
      ],
      "source": [
        "support_vector_machine= SVC()\n",
        "\n",
        "param_dict={\n",
        "    \"kernel\": [\"linear\",\"rbf\"],\n",
        "    \"C\":[1,0.8,0.6,0.2]\n",
        "}\n",
        "\n",
        "grid=GridSearchCV(support_vector_machine, param_grid=param_dict, cv=cv)\n",
        "grid.fit(X_train, y_train)\n",
        "\n",
        "print(\"best_params:\\n\",grid.best_params_,\"\\n\",\"best_estimator:\\n\",grid.best_estimator_,\"\\n\",\"best_score:\\n\",grid.best_score_)"
      ]
    },
    {
      "cell_type": "markdown",
      "metadata": {
        "id": "c9u4lLDm5rUj"
      },
      "source": [
        "\n",
        "***7- k-nearest neighbors***"
      ]
    },
    {
      "cell_type": "code",
      "execution_count": null,
      "metadata": {
        "colab": {
          "base_uri": "https://localhost:8080/"
        },
        "id": "vWL4MpD3PmoA",
        "outputId": "0c9bf3be-4452-4268-9582-4839101de143"
      },
      "outputs": [
        {
          "output_type": "stream",
          "name": "stdout",
          "text": [
            "best_params:\n",
            " {'leaf_size': 1, 'metric': 'minkowski', 'n_neighbors': 12, 'p': 1, 'weights': 'uniform'} \n",
            " best_estimator:\n",
            " KNeighborsClassifier(leaf_size=1, n_neighbors=12, p=1) \n",
            " best_score:\n",
            " 0.8767881241565453\n"
          ]
        }
      ],
      "source": [
        "k_nearest_neighbors= KNeighborsClassifier()\n",
        "\n",
        "\n",
        "\n",
        "param_dict={\n",
        "    'n_neighbors' : range(1,30),\n",
        "    'metric' : ['minkowski','euclidean'],\n",
        "    'leaf_size' :range(1,50),\n",
        "    'p' :[1,2],\n",
        "    'weights': ['uniform', 'distance']\n",
        "}\n",
        "\n",
        "grid=GridSearchCV(k_nearest_neighbors, param_grid=param_dict, cv=cv)#,n_jobs=-1\n",
        "grid.fit(X_train, y_train)\n",
        "\n",
        "print(\"best_params:\\n\",grid.best_params_,\"\\n\",\"best_estimator:\\n\",grid.best_estimator_,\"\\n\",\"best_score:\\n\",grid.best_score_)"
      ]
    },
    {
      "cell_type": "code",
      "execution_count": null,
      "metadata": {
        "colab": {
          "base_uri": "https://localhost:8080/",
          "height": 422
        },
        "id": "CU2jnwdn5sf2",
        "outputId": "7a815046-beb8-4be0-b267-0f26c0aab8f6"
      },
      "outputs": [
        {
          "output_type": "stream",
          "name": "stdout",
          "text": [
            "Minimum error rate:- 0.14285714285714285 at K = 13\n"
          ]
        },
        {
          "output_type": "display_data",
          "data": {
            "text/plain": [
              "<Figure size 720x432 with 1 Axes>"
            ],
            "image/png": "[encoded data removed]"
          },
          "metadata": {
            "needs_background": "light"
          }
        }
      ],
      "source": [
        "error_rate = []\n",
        "for i in range(1,30):\n",
        "  knn = KNeighborsClassifier(n_neighbors=i)\n",
        "  knn.fit(X_train,y_train)\n",
        "  pred_i = knn.predict(X_test)\n",
        "  error_rate.append(np.mean(pred_i != y_test))\n",
        "\n",
        "plt.figure(figsize=(10,6))\n",
        "plt.plot(range(1,30),error_rate,color=\"red\", linestyle=\"dashed\", marker=\"o\",\n",
        "markerfacecolor=\"blue\", markersize=10)\n",
        "plt.title('Error Rate vs. K Value')\n",
        "plt.xlabel(\"K\")\n",
        "plt.ylabel(\"Error Rate\")\n",
        "print(\"Minimum error rate:-\",min(error_rate),\"at K =\",error_rate.index(min(error_rate)))"
      ]
    },
    {
      "cell_type": "code",
      "execution_count": null,
      "metadata": {
        "colab": {
          "base_uri": "https://localhost:8080/",
          "height": 422
        },
        "id": "1JNPFJlkOyT-",
        "outputId": "44ee525f-34fc-42d8-8d69-d12aa0645e00"
      },
      "outputs": [
        {
          "output_type": "stream",
          "name": "stdout",
          "text": [
            "Maximum accuracy:- 0.8571428571428571 at K = 13\n"
          ]
        },
        {
          "output_type": "display_data",
          "data": {
            "text/plain": [
              "<Figure size 720x432 with 1 Axes>"
            ],
            "image/png": "[encoded data removed]"
          },
          "metadata": {
            "needs_background": "light"
          }
        }
      ],
      "source": [
        "acc = []\n",
        "# Will take some time\n",
        "from sklearn import metrics\n",
        "for i in range(1,30):\n",
        "    neigh = KNeighborsClassifier(n_neighbors = i).fit(X_train,y_train)\n",
        "    yhat = neigh.predict(X_test)\n",
        "    acc.append(metrics.accuracy_score(y_test, yhat))\n",
        "    \n",
        "plt.figure(figsize=(10,6))\n",
        "plt.plot(range(1,30),acc,color = 'red',linestyle='dashed', \n",
        "         marker='o',markerfacecolor='blue', markersize=10)\n",
        "plt.title('accuracy vs. K Value')\n",
        "plt.xlabel('K')\n",
        "plt.ylabel('Accuracy')\n",
        "print(\"Maximum accuracy:-\",max(acc),\"at K =\",acc.index(max(acc)))"
      ]
    },
    {
      "cell_type": "markdown",
      "metadata": {
        "id": "MJ2ZEzLs5s5X"
      },
      "source": [
        "***8- MLP***"
      ]
    },
    {
      "cell_type": "code",
      "execution_count": null,
      "metadata": {
        "colab": {
          "base_uri": "https://localhost:8080/"
        },
        "id": "giQUl-8w5tuC",
        "outputId": "e07ce60a-9298-464b-dcdf-22734b479ec3"
      },
      "outputs": [
        {
          "metadata": {
            "tags": null
          },
          "name": "stdout",
          "output_type": "stream",
          "text": [
            "Fitting 10 folds for each of 5 candidates, totalling 50 fits\n"
          ]
        },
        {
          "metadata": {
            "tags": null
          },
          "name": "stderr",
          "output_type": "stream",
          "text": [
            "/usr/local/lib/python3.7/dist-packages/sklearn/neural_network/_multilayer_perceptron.py:696: ConvergenceWarning: Stochastic Optimizer: Maximum iterations (200) reached and the optimization hasn't converged yet.\n",
            "  ConvergenceWarning,\n",
            "/usr/local/lib/python3.7/dist-packages/sklearn/neural_network/_multilayer_perceptron.py:696: ConvergenceWarning: Stochastic Optimizer: Maximum iterations (200) reached and the optimization hasn't converged yet.\n",
            "  ConvergenceWarning,\n",
            "/usr/local/lib/python3.7/dist-packages/sklearn/neural_network/_multilayer_perceptron.py:696: ConvergenceWarning: Stochastic Optimizer: Maximum iterations (200) reached and the optimization hasn't converged yet.\n",
            "  ConvergenceWarning,\n",
            "/usr/local/lib/python3.7/dist-packages/sklearn/neural_network/_multilayer_perceptron.py:696: ConvergenceWarning: Stochastic Optimizer: Maximum iterations (200) reached and the optimization hasn't converged yet.\n",
            "  ConvergenceWarning,\n",
            "/usr/local/lib/python3.7/dist-packages/sklearn/neural_network/_multilayer_perceptron.py:696: ConvergenceWarning: Stochastic Optimizer: Maximum iterations (200) reached and the optimization hasn't converged yet.\n",
            "  ConvergenceWarning,\n",
            "/usr/local/lib/python3.7/dist-packages/sklearn/neural_network/_multilayer_perceptron.py:696: ConvergenceWarning: Stochastic Optimizer: Maximum iterations (200) reached and the optimization hasn't converged yet.\n",
            "  ConvergenceWarning,\n",
            "/usr/local/lib/python3.7/dist-packages/sklearn/neural_network/_multilayer_perceptron.py:696: ConvergenceWarning: Stochastic Optimizer: Maximum iterations (200) reached and the optimization hasn't converged yet.\n",
            "  ConvergenceWarning,\n",
            "/usr/local/lib/python3.7/dist-packages/sklearn/neural_network/_multilayer_perceptron.py:696: ConvergenceWarning: Stochastic Optimizer: Maximum iterations (200) reached and the optimization hasn't converged yet.\n",
            "  ConvergenceWarning,\n",
            "/usr/local/lib/python3.7/dist-packages/sklearn/neural_network/_multilayer_perceptron.py:696: ConvergenceWarning: Stochastic Optimizer: Maximum iterations (200) reached and the optimization hasn't converged yet.\n",
            "  ConvergenceWarning,\n",
            "/usr/local/lib/python3.7/dist-packages/sklearn/neural_network/_multilayer_perceptron.py:696: ConvergenceWarning: Stochastic Optimizer: Maximum iterations (200) reached and the optimization hasn't converged yet.\n",
            "  ConvergenceWarning,\n",
            "/usr/local/lib/python3.7/dist-packages/sklearn/neural_network/_multilayer_perceptron.py:696: ConvergenceWarning: Stochastic Optimizer: Maximum iterations (300) reached and the optimization hasn't converged yet.\n",
            "  ConvergenceWarning,\n",
            "/usr/local/lib/python3.7/dist-packages/sklearn/neural_network/_multilayer_perceptron.py:696: ConvergenceWarning: Stochastic Optimizer: Maximum iterations (300) reached and the optimization hasn't converged yet.\n",
            "  ConvergenceWarning,\n",
            "/usr/local/lib/python3.7/dist-packages/sklearn/neural_network/_multilayer_perceptron.py:696: ConvergenceWarning: Stochastic Optimizer: Maximum iterations (300) reached and the optimization hasn't converged yet.\n",
            "  ConvergenceWarning,\n",
            "/usr/local/lib/python3.7/dist-packages/sklearn/neural_network/_multilayer_perceptron.py:696: ConvergenceWarning: Stochastic Optimizer: Maximum iterations (300) reached and the optimization hasn't converged yet.\n",
            "  ConvergenceWarning,\n",
            "/usr/local/lib/python3.7/dist-packages/sklearn/neural_network/_multilayer_perceptron.py:696: ConvergenceWarning: Stochastic Optimizer: Maximum iterations (300) reached and the optimization hasn't converged yet.\n",
            "  ConvergenceWarning,\n",
            "/usr/local/lib/python3.7/dist-packages/sklearn/neural_network/_multilayer_perceptron.py:696: ConvergenceWarning: Stochastic Optimizer: Maximum iterations (300) reached and the optimization hasn't converged yet.\n",
            "  ConvergenceWarning,\n",
            "/usr/local/lib/python3.7/dist-packages/sklearn/neural_network/_multilayer_perceptron.py:696: ConvergenceWarning: Stochastic Optimizer: Maximum iterations (300) reached and the optimization hasn't converged yet.\n",
            "  ConvergenceWarning,\n",
            "/usr/local/lib/python3.7/dist-packages/sklearn/neural_network/_multilayer_perceptron.py:696: ConvergenceWarning: Stochastic Optimizer: Maximum iterations (300) reached and the optimization hasn't converged yet.\n",
            "  ConvergenceWarning,\n",
            "/usr/local/lib/python3.7/dist-packages/sklearn/neural_network/_multilayer_perceptron.py:696: ConvergenceWarning: Stochastic Optimizer: Maximum iterations (300) reached and the optimization hasn't converged yet.\n",
            "  ConvergenceWarning,\n",
            "/usr/local/lib/python3.7/dist-packages/sklearn/neural_network/_multilayer_perceptron.py:696: ConvergenceWarning: Stochastic Optimizer: Maximum iterations (500) reached and the optimization hasn't converged yet.\n",
            "  ConvergenceWarning,\n",
            "/usr/local/lib/python3.7/dist-packages/sklearn/neural_network/_multilayer_perceptron.py:696: ConvergenceWarning: Stochastic Optimizer: Maximum iterations (500) reached and the optimization hasn't converged yet.\n",
            "  ConvergenceWarning,\n"
          ]
        },
        {
          "metadata": {
            "tags": null
          },
          "name": "stdout",
          "output_type": "stream",
          "text": [
            "best_params:\n",
            " {'max_iter': 2000} \n",
            " best_estimator:\n",
            " MLPClassifier(max_iter=2000) \n",
            " best_score:\n",
            " 0.8689608636977058\n"
          ]
        }
      ],
      "source": [
        "#MLPClassifier\n",
        "MLP= MLPClassifier()\n",
        "param_dict={\n",
        "    \"max_iter\" : [200,300,500,1000,2000],\n",
        "}\n",
        "\n",
        "grid=GridSearchCV(MLP, param_grid=param_dict, cv=cv, verbose=1)\n",
        "grid.fit(X_train, y_train)\n",
        "\n",
        "print(\"best_params:\\n\",grid.best_params_,\"\\n\",\"best_estimator:\\n\",grid.best_estimator_,\"\\n\",\"best_score:\\n\",grid.best_score_)\n"
      ]
    }
  ],
  "metadata": {
    "colab": {
      "collapsed_sections": [],
      "name": "hyperparameters.ipynb",
      "provenance": [],
      "authorship_tag": "ABX9TyMP4NSKTuWr3ZKujGUr9bi+"
    },
    "kernelspec": {
      "display_name": "Python 3",
      "name": "python3"
    },
    "language_info": {
      "name": "python"
    }
  },
  "nbformat": 4,
  "nbformat_minor": 0
}