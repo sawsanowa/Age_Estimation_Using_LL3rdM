{
  "nbformat": 4,
  "nbformat_minor": 0,
  "metadata": {
    "colab": {
      "name": "fine_tuned_algorithms.ipynb",
      "provenance": [],
      "collapsed_sections": [],
      "authorship_tag": "ABX9TyMuGZq3WpOj+l7SinvuSrJR"
    },
    "kernelspec": {
      "name": "python3",
      "display_name": "Python 3"
    },
    "language_info": {
      "name": "python"
    }
  },
  "cells": [
    {
      "cell_type": "code",
      "source": [
        "from sklearn import preprocessing, metrics, tree, ensemble\n",
        "from sklearn.preprocessing import LabelEncoder, StandardScaler\n",
        "import matplotlib.pyplot as plt\n",
        "import seaborn as sns\n",
        "import pandas as pd\n",
        "from pandas.plotting import scatter_matrix\n",
        "import numpy as np\n",
        "from numpy import mean, std\n",
        "import pickle\n",
        "from collections import Counter\n",
        "#-----------------------------------------------------------\n",
        "from sklearn.metrics import classification_report, confusion_matrix, accuracy_score, precision_score, recall_score, f1_score, ConfusionMatrixDisplay, make_scorer, roc_curve, roc_auc_score\n",
        "from sklearn.model_selection import train_test_split, cross_val_score, GridSearchCV, KFold\n",
        "#-----------------------------------------------------------\n",
        "from sklearn.neighbors import KNeighborsClassifier  \n",
        "from sklearn.ensemble import RandomForestClassifier, GradientBoostingClassifier\n",
        "from sklearn.svm import SVC\n",
        "from sklearn.tree import DecisionTreeClassifier\n",
        "from sklearn.linear_model import LogisticRegression\n",
        "from sklearn.neural_network import MLPClassifier\n",
        "from sklearn.discriminant_analysis import LinearDiscriminantAnalysis"
      ],
      "metadata": {
        "id": "JTEZOgFT7-4S"
      },
      "execution_count": null,
      "outputs": []
    },
    {
      "cell_type": "code",
      "source": [
        "df = pd.read_csv('/content/ALL_orig_order.csv', usecols=['gender','apex1','apex2','height','Index','age_group'])\n",
        "df"
      ],
      "metadata": {
        "id": "8QMsxix98SW5"
      },
      "execution_count": null,
      "outputs": []
    },
    {
      "cell_type": "markdown",
      "source": [
        "**Pre-processing**"
      ],
      "metadata": {
        "id": "0WNvg2NBewM-"
      }
    },
    {
      "cell_type": "code",
      "source": [
        "#encode gender only\n",
        "'''\n",
        "le = LabelEncoder()\n",
        "X[:,0] = le.fit_transform(X[:,0])\n",
        "'''"
      ],
      "metadata": {
        "id": "EFWx_AxZGTE0",
        "colab": {
          "base_uri": "https://localhost:8080/",
          "height": 36
        },
        "outputId": "6fdd2f2e-5790-4fe8-890d-1cbbd8a027ab"
      },
      "execution_count": null,
      "outputs": [
        {
          "output_type": "execute_result",
          "data": {
            "text/plain": [
              "'\\nle = LabelEncoder()\\nX[:,0] = le.fit_transform(X[:,0])\\n'"
            ],
            "application/vnd.google.colaboratory.intrinsic+json": {
              "type": "string"
            }
          },
          "metadata": {},
          "execution_count": 454
        }
      ]
    },
    {
      "cell_type": "code",
      "source": [
        "col=['gender','age_group']\n",
        "df[col] = df[col].apply(LabelEncoder().fit_transform)"
      ],
      "metadata": {
        "id": "1FtQyflrUgZh"
      },
      "execution_count": null,
      "outputs": []
    },
    {
      "cell_type": "code",
      "source": [
        "X = df.iloc[:, [0, 1, 2, 3, 4]].values\n",
        "y = df.iloc[:, -1].values"
      ],
      "metadata": {
        "id": "yh8dv6XLHKA2"
      },
      "execution_count": null,
      "outputs": []
    },
    {
      "cell_type": "code",
      "source": [
        "df['age_group'].value_counts() #Adult:0 TOTAL 286, Minor:1 TOTAL 201"
      ],
      "metadata": {
        "colab": {
          "base_uri": "https://localhost:8080/"
        },
        "id": "hoVEysuS2hie",
        "outputId": "72f6db0f-1908-475a-fbba-b08dcc2556b2"
      },
      "execution_count": null,
      "outputs": [
        {
          "output_type": "execute_result",
          "data": {
            "text/plain": [
              "0    286\n",
              "1    201\n",
              "Name: age_group, dtype: int64"
            ]
          },
          "metadata": {},
          "execution_count": 457
        }
      ]
    },
    {
      "cell_type": "code",
      "source": [
        "df['gender'].value_counts() #M:1 TOTAL 231, F:0 TOTAL256"
      ],
      "metadata": {
        "colab": {
          "base_uri": "https://localhost:8080/"
        },
        "id": "t7Gykin9WCPn",
        "outputId": "1381cc31-5424-46cd-c627-3d2b79030d81"
      },
      "execution_count": null,
      "outputs": [
        {
          "output_type": "execute_result",
          "data": {
            "text/plain": [
              "0    256\n",
              "1    231\n",
              "Name: gender, dtype: int64"
            ]
          },
          "metadata": {},
          "execution_count": 458
        }
      ]
    },
    {
      "cell_type": "code",
      "source": [
        "#random_state\n",
        "seed= 42"
      ],
      "metadata": {
        "id": "RUPStm4y3nOi"
      },
      "execution_count": null,
      "outputs": []
    },
    {
      "cell_type": "code",
      "source": [
        "X_train, X_test, y_train, y_test = train_test_split(X, y, test_size=0.2,random_state=seed,stratify=y) "
      ],
      "metadata": {
        "id": "PYe61TTIGuSG"
      },
      "execution_count": null,
      "outputs": []
    },
    {
      "cell_type": "code",
      "source": [
        "print(Counter(y))\n",
        "print(Counter(y_train))\n",
        "print(Counter(y_test))"
      ],
      "metadata": {
        "id": "NAOgTJsl0-mO"
      },
      "execution_count": null,
      "outputs": []
    },
    {
      "cell_type": "code",
      "source": [
        "#feature Scaling  -- applided for all classifiers because no change was observed in the scores for algorithms that does not need scalling \n",
        "scaler = StandardScaler()    \n",
        "X_train = scaler.fit_transform(X_train)    \n",
        "X_test = scaler.transform(X_test)  "
      ],
      "metadata": {
        "id": "0BCqJZaGj9p7"
      },
      "execution_count": null,
      "outputs": []
    },
    {
      "cell_type": "code",
      "source": [
        "# Decision Tree\n",
        "dt = DecisionTreeClassifier(max_depth=4, random_state=seed)\n",
        "dt.fit(X_train,y_train)\n",
        "y_pred_dt = dt.predict(X_test)\n",
        "dt_acc = accuracy_score(y_test,y_pred_dt)\n",
        "dt_report = classification_report(y_test, y_pred_dt)\n",
        "\n",
        "# Random Forest\n",
        "rf = RandomForestClassifier(criterion='entropy', max_depth=5, n_estimators=300,random_state=seed)\n",
        "rf.fit(X_train,y_train)\n",
        "y_pred_rf = rf.predict(X_test)\n",
        "rf_acc = accuracy_score(y_test,y_pred_rf)\n",
        "rf_report = classification_report(y_test, y_pred_rf)\n",
        "\n",
        "# Linear Discriminant Analysis\n",
        "lda = LinearDiscriminantAnalysis(solver='svd')\n",
        "lda.fit(X_train, y_train)\n",
        "y_pred_lda=lda.predict(X_test)\n",
        "lda_acc=accuracy_score(y_test,y_pred_lda)\n",
        "lda_report=classification_report(y_test,y_pred_lda)\n",
        "\n",
        "# Gradient Boosting\n",
        "gb = GradientBoostingClassifier(max_depth=6, n_estimators=200)\n",
        "gb.fit(X_train, y_train)\n",
        "y_pred_gb=gb.predict(X_test)\n",
        "gb_acc=accuracy_score(y_test,y_pred_gb)\n",
        "gb_report=classification_report(y_test,y_pred_gb)\n",
        "\n",
        "# Logistic Regression\n",
        "lr = LogisticRegression(solver='liblinear', random_state=seed)\n",
        "lr.fit(X_train,y_train)\n",
        "y_pred_lr = lr.predict(X_test)\n",
        "lr_acc = accuracy_score(y_test,y_pred_lr)\n",
        "lr_report = classification_report(y_test, y_pred_lr)"
      ],
      "metadata": {
        "id": "ahAMR6vn3MzQ"
      },
      "execution_count": null,
      "outputs": []
    },
    {
      "cell_type": "code",
      "source": [
        "# algorithms needs scaling  ---------------------------------------\n",
        "\n",
        "# Support Vector Machine\n",
        "svm = SVC(C=1, kernel='linear',probability=True,random_state=seed)\n",
        "svm.fit(X_train,y_train)\n",
        "y_pred_svm = svm.predict(X_test)\n",
        "svm_acc = accuracy_score(y_test,y_pred_svm)\n",
        "svm_report = classification_report(y_test, y_pred_svm)\n",
        "\n",
        "# k-nearest neighbors\n",
        "knn = KNeighborsClassifier(n_neighbors=13)\n",
        "knn.fit(X_train,y_train)\n",
        "y_pred_knn = knn.predict(X_test)\n",
        "knn_acc = accuracy_score(y_test,y_pred_knn)\n",
        "knn_report = classification_report(y_test, y_pred_knn)\n",
        "\n",
        "# Neural Network\n",
        "nn = MLPClassifier(max_iter=2000,random_state=seed)\n",
        "nn.fit(X_train,y_train)\n",
        "y_pred_nn = nn.predict(X_test)\n",
        "nn_acc = accuracy_score(y_test,y_pred_nn)\n",
        "nn_report = classification_report(y_test, y_pred_nn)"
      ],
      "metadata": {
        "id": "DrU-aaMm3TJq"
      },
      "execution_count": null,
      "outputs": []
    },
    {
      "cell_type": "code",
      "source": [
        "pd.DataFrame({\"Algorithm\":[\"Decision Tree\",\"Random Forest\",\"Linear Discriminant Analysis\",\"Gradient Boosting\",\"Logistic Regression\",\"Support Vector Machine\",\"k-nearest neighbors\",\"Neural Network\"],\n",
        "              \"Accuracy Score\":[dt_acc,rf_acc,lda_acc,gb_acc,lr_acc,svm_acc,knn_acc,nn_acc]})"
      ],
      "metadata": {
        "colab": {
          "base_uri": "https://localhost:8080/",
          "height": 300
        },
        "id": "nsBGtUuV5RRp",
        "outputId": "e68b8ccb-ca99-40eb-ed37-491322e13fb4"
      },
      "execution_count": null,
      "outputs": [
        {
          "output_type": "execute_result",
          "data": {
            "text/plain": [
              "                      Algorithm  Accuracy Score\n",
              "0                 Decision Tree        0.816327\n",
              "1                 Random Forest        0.826531\n",
              "2  Linear Discriminant Analysis        0.846939\n",
              "3             Gradient Boosting        0.826531\n",
              "4           Logistic Regression        0.846939\n",
              "5        Support Vector Machine        0.806122\n",
              "6           k-nearest neighbors        0.836735\n",
              "7                Neural Network        0.826531"
            ],
            "text/html": [
              "\n",
              "  <div id=\"df-178ea02c-b4f3-4ca6-982d-010749b61df3\">\n",
              "    <div class=\"colab-df-container\">\n",
              "      <div>\n",
              "<style scoped>\n",
              "    .dataframe tbody tr th:only-of-type {\n",
              "        vertical-align: middle;\n",
              "    }\n",
              "\n",
              "    .dataframe tbody tr th {\n",
              "        vertical-align: top;\n",
              "    }\n",
              "\n",
              "    .dataframe thead th {\n",
              "        text-align: right;\n",
              "    }\n",
              "</style>\n",
              "<table border=\"1\" class=\"dataframe\">\n",
              "  <thead>\n",
              "    <tr style=\"text-align: right;\">\n",
              "      <th></th>\n",
              "      <th>Algorithm</th>\n",
              "      <th>Accuracy Score</th>\n",
              "    </tr>\n",
              "  </thead>\n",
              "  <tbody>\n",
              "    <tr>\n",
              "      <th>0</th>\n",
              "      <td>Decision Tree</td>\n",
              "      <td>0.816327</td>\n",
              "    </tr>\n",
              "    <tr>\n",
              "      <th>1</th>\n",
              "      <td>Random Forest</td>\n",
              "      <td>0.826531</td>\n",
              "    </tr>\n",
              "    <tr>\n",
              "      <th>2</th>\n",
              "      <td>Linear Discriminant Analysis</td>\n",
              "      <td>0.846939</td>\n",
              "    </tr>\n",
              "    <tr>\n",
              "      <th>3</th>\n",
              "      <td>Gradient Boosting</td>\n",
              "      <td>0.826531</td>\n",
              "    </tr>\n",
              "    <tr>\n",
              "      <th>4</th>\n",
              "      <td>Logistic Regression</td>\n",
              "      <td>0.846939</td>\n",
              "    </tr>\n",
              "    <tr>\n",
              "      <th>5</th>\n",
              "      <td>Support Vector Machine</td>\n",
              "      <td>0.806122</td>\n",
              "    </tr>\n",
              "    <tr>\n",
              "      <th>6</th>\n",
              "      <td>k-nearest neighbors</td>\n",
              "      <td>0.836735</td>\n",
              "    </tr>\n",
              "    <tr>\n",
              "      <th>7</th>\n",
              "      <td>Neural Network</td>\n",
              "      <td>0.826531</td>\n",
              "    </tr>\n",
              "  </tbody>\n",
              "</table>\n",
              "</div>\n",
              "      <button class=\"colab-df-convert\" onclick=\"convertToInteractive('df-178ea02c-b4f3-4ca6-982d-010749b61df3')\"\n",
              "              title=\"Convert this dataframe to an interactive table.\"\n",
              "              style=\"display:none;\">\n",
              "        \n",
              "  <svg xmlns=\"http://www.w3.org/2000/svg\" height=\"24px\"viewBox=\"0 0 24 24\"\n",
              "       width=\"24px\">\n",
              "    <path d=\"M0 0h24v24H0V0z\" fill=\"none\"/>\n",
              "    <path d=\"M18.56 5.44l.94 2.06.94-2.06 2.06-.94-2.06-.94-.94-2.06-.94 2.06-2.06.94zm-11 1L8.5 8.5l.94-2.06 2.06-.94-2.06-.94L8.5 2.5l-.94 2.06-2.06.94zm10 10l.94 2.06.94-2.06 2.06-.94-2.06-.94-.94-2.06-.94 2.06-2.06.94z\"/><path d=\"M17.41 7.96l-1.37-1.37c-.4-.4-.92-.59-1.43-.59-.52 0-1.04.2-1.43.59L10.3 9.45l-7.72 7.72c-.78.78-.78 2.05 0 2.83L4 21.41c.39.39.9.59 1.41.59.51 0 1.02-.2 1.41-.59l7.78-7.78 2.81-2.81c.8-.78.8-2.07 0-2.86zM5.41 20L4 18.59l7.72-7.72 1.47 1.35L5.41 20z\"/>\n",
              "  </svg>\n",
              "      </button>\n",
              "      \n",
              "  <style>\n",
              "    .colab-df-container {\n",
              "      display:flex;\n",
              "      flex-wrap:wrap;\n",
              "      gap: 12px;\n",
              "    }\n",
              "\n",
              "    .colab-df-convert {\n",
              "      background-color: #E8F0FE;\n",
              "      border: none;\n",
              "      border-radius: 50%;\n",
              "      cursor: pointer;\n",
              "      display: none;\n",
              "      fill: #1967D2;\n",
              "      height: 32px;\n",
              "      padding: 0 0 0 0;\n",
              "      width: 32px;\n",
              "    }\n",
              "\n",
              "    .colab-df-convert:hover {\n",
              "      background-color: #E2EBFA;\n",
              "      box-shadow: 0px 1px 2px rgba(60, 64, 67, 0.3), 0px 1px 3px 1px rgba(60, 64, 67, 0.15);\n",
              "      fill: #174EA6;\n",
              "    }\n",
              "\n",
              "    [theme=dark] .colab-df-convert {\n",
              "      background-color: #3B4455;\n",
              "      fill: #D2E3FC;\n",
              "    }\n",
              "\n",
              "    [theme=dark] .colab-df-convert:hover {\n",
              "      background-color: #434B5C;\n",
              "      box-shadow: 0px 1px 3px 1px rgba(0, 0, 0, 0.15);\n",
              "      filter: drop-shadow(0px 1px 2px rgba(0, 0, 0, 0.3));\n",
              "      fill: #FFFFFF;\n",
              "    }\n",
              "  </style>\n",
              "\n",
              "      <script>\n",
              "        const buttonEl =\n",
              "          document.querySelector('#df-178ea02c-b4f3-4ca6-982d-010749b61df3 button.colab-df-convert');\n",
              "        buttonEl.style.display =\n",
              "          google.colab.kernel.accessAllowed ? 'block' : 'none';\n",
              "\n",
              "        async function convertToInteractive(key) {\n",
              "          const element = document.querySelector('#df-178ea02c-b4f3-4ca6-982d-010749b61df3');\n",
              "          const dataTable =\n",
              "            await google.colab.kernel.invokeFunction('convertToInteractive',\n",
              "                                                     [key], {});\n",
              "          if (!dataTable) return;\n",
              "\n",
              "          const docLinkHtml = 'Like what you see? Visit the ' +\n",
              "            '<a target=\"_blank\" href=https://colab.research.google.com/notebooks/data_table.ipynb>data table notebook</a>'\n",
              "            + ' to learn more about interactive tables.';\n",
              "          element.innerHTML = '';\n",
              "          dataTable['output_type'] = 'display_data';\n",
              "          await google.colab.output.renderOutput(dataTable, element);\n",
              "          const docLink = document.createElement('div');\n",
              "          docLink.innerHTML = docLinkHtml;\n",
              "          element.appendChild(docLink);\n",
              "        }\n",
              "      </script>\n",
              "    </div>\n",
              "  </div>\n",
              "  "
            ]
          },
          "metadata": {},
          "execution_count": 465
        }
      ]
    },
    {
      "cell_type": "code",
      "source": [
        "conf_dt = confusion_matrix(y_test, y_pred_dt)\n",
        "print(\"Confusion Matrix: DT\")\n",
        "print(conf_dt)\n",
        "print(\"\\nClassification Report: Decision Tree\",)\n",
        "print (dt_report)\n",
        "print(\"Accuracy on training set: {:.4f}\".format(dt.score(X_train, y_train)))\n",
        "print(\"Accuracy on test set: {:.4f}\".format(dt.score(X_test, y_test)))\n",
        "print(\"f1: {:.4f}\".format(f1_score(y_test, y_pred_dt, average='binary')))\n",
        "print(\"precision_score: {:.4f}\".format(precision_score(y_test, y_pred_dt, average='binary')))\n",
        "print(\"recall_score: {:.4f}\".format(recall_score(y_test, y_pred_dt, average='binary')))\n",
        "print(\"specificity: {:.4f}\".format(recall_score(y_test, y_pred_dt,pos_label=0)))\n",
        "print(\"AUC: {:.4f}\".format(roc_auc_score(y_test, y_pred_dt)))\n",
        "\n",
        "print(\"----------------------------------------------------------------------\")\n",
        "\n",
        "conf_rf = confusion_matrix(y_test, y_pred_rf)\n",
        "print(\"\\nConfusion Matrix: RF\")\n",
        "print(conf_rf)\n",
        "print(\"\\nClassification Report: Random Forest\",)\n",
        "print (rf_report)\n",
        "print(\"Accuracy on training set: {:.4f}\".format(rf.score(X_train, y_train)))\n",
        "print(\"Accuracy on test set: {:.4f}\".format(rf.score(X_test, y_test)))\n",
        "print(\"f1: {:.4f}\".format(f1_score(y_test, y_pred_rf, average='binary')))\n",
        "print(\"precision_score: {:.4f}\".format(precision_score(y_test, y_pred_rf, average='binary')))\n",
        "print(\"recall_score: {:.4f}\".format(recall_score(y_test, y_pred_rf, average='binary')))\n",
        "print(\"specificity: {:.4f}\".format(recall_score(y_test, y_pred_rf,pos_label=0)))\n",
        "print(\"----------------------------------------------------------------------\")\n",
        "\n",
        "conf_lda = confusion_matrix(y_test, y_pred_lda)\n",
        "print(\"\\nConfusion Matrix: LDA\")\n",
        "print(conf_lda)\n",
        "print(\"\\nClassification Report:Linear Discriminant Analysis\",)\n",
        "print (lda_report)\n",
        "print(\"Accuracy on training set: {:.4f}\".format(lda.score(X_train, y_train)))\n",
        "print(\"Accuracy on test set: {:.4f}\".format(lda.score(X_test, y_test)))\n",
        "print(\"f1: {:.4f}\".format(f1_score(y_test, y_pred_lda, average='binary')))\n",
        "print(\"precision_score: {:.4f}\".format(precision_score(y_test,y_pred_lda, average='binary')))\n",
        "print(\"recall_score: {:.4f}\".format(recall_score(y_test, y_pred_lda, average='binary')))\n",
        "print(\"specificity: {:.4f}\".format(recall_score(y_test, y_pred_lda,pos_label=0)))\n",
        "print(\"----------------------------------------------------------------------\")\n",
        "\n",
        "conf_gb = confusion_matrix(y_test, y_pred_gb)\n",
        "print(\"\\nConfusion Matrix: GB\")\n",
        "print(conf_gb)\n",
        "print(\"\\nClassification Report: Gradient Boosting\",)\n",
        "print (gb_report)\n",
        "print(\"Accuracy on training set: {:.4f}\".format(gb.score(X_train, y_train)))\n",
        "print(\"Accuracy on test set: {:.4f}\".format(gb.score(X_test, y_test)))\n",
        "print(\"f1: {:.4f}\".format(f1_score(y_test, y_pred_gb, average='binary')))\n",
        "print(\"precision_score: {:.4f}\".format(precision_score(y_test,y_pred_gb, average='binary')))\n",
        "print(\"recall_score: {:.4f}\".format(recall_score(y_test, y_pred_gb, average='binary')))\n",
        "print(\"specificity: {:.4f}\".format(recall_score(y_test, y_pred_gb,pos_label=0)))\n",
        "print(\"----------------------------------------------------------------------\")\n",
        "\n",
        "conf_lr = confusion_matrix(y_test, y_pred_lr)\n",
        "print(\"\\nConfusion Matrix: LR\")\n",
        "print(conf_lr)\n",
        "print(\"\\nClassification Report: Logistic Regression\",)\n",
        "print (lr_report)\n",
        "print(\"Accuracy on training set: {:.4f}\".format(lr.score(X_train, y_train)))\n",
        "print(\"Accuracy on test set: {:.4f}\".format(lr.score(X_test, y_test)))\n",
        "print(\"f1: {:.4f}\".format(f1_score(y_test, y_pred_lr, average='binary')))\n",
        "print(\"precision_score: {:.4f}\".format(precision_score(y_test,y_pred_lr, average='binary')))\n",
        "print(\"recall_score: {:.4f}\".format(recall_score(y_test, y_pred_lr, average='binary')))\n",
        "print(\"specificity: {:.4f}\".format(recall_score(y_test, y_pred_lr,pos_label=0)))\n",
        "print(\"----------------------------------------------------------------------\")\n",
        "\n",
        "#----------------------------------------------------------------------\n",
        "\n",
        "conf_svm = confusion_matrix(y_test, y_pred_svm)\n",
        "print(\"\\nConfusion Matrix: SVM\")\n",
        "print(conf_svm)\n",
        "print(\"\\nClassification Report: Support Vector Machine\",)\n",
        "print (svm_report)\n",
        "print(\"Accuracy on training set: {:.4f}\".format(svm.score(X_train, y_train)))\n",
        "print(\"Accuracy on test set: {:.4f}\".format(svm.score(X_test, y_test)))\n",
        "print(\"f1: {:.4f}\".format(f1_score(y_test, y_pred_svm, average='binary')))\n",
        "print(\"precision_score: {:.4f}\".format(precision_score(y_test,y_pred_svm, average='binary')))\n",
        "print(\"recall_score: {:.4f}\".format(recall_score(y_test, y_pred_svm, average='binary')))\n",
        "print(\"specificity: {:.4f}\".format(recall_score(y_test, y_pred_svm,pos_label=0)))\n",
        "print(\"----------------------------------------------------------------------\")\n",
        "\n",
        "conf_knn = confusion_matrix(y_test, y_pred_knn)\n",
        "print(\"\\nConfusion Matrix: KNN\")\n",
        "print(conf_knn)\n",
        "print(\"\\nClassification Report: k-nearest neighbors\",)\n",
        "print(knn_report)\n",
        "print(\"Accuracy on training set: {:.4f}\".format(knn.score(X_train, y_train)))\n",
        "print(\"Accuracy on test set: {:.4f}\".format(knn.score(X_test, y_test)))\n",
        "print(\"f1: {:.4f}\".format(f1_score(y_test,y_pred_knn, average='binary')))\n",
        "print(\"precision_score: {:.4f}\".format(precision_score(y_test,y_pred_knn, average='binary')))\n",
        "print(\"recall_score: {:.4f}\".format(recall_score(y_test, y_pred_knn, average='binary')))\n",
        "print(\"specificity: {:.4f}\".format(recall_score(y_test, y_pred_knn,pos_label=0)))\n",
        "print(\"----------------------------------------------------------------------\")\n",
        "\n",
        "conf_nn = confusion_matrix(y_test, y_pred_nn)\n",
        "print(\"\\nConfusion Matrix: NN\")\n",
        "print(conf_nn)\n",
        "print(\"\\nClassification Report: Neural Network\",)\n",
        "print (nn_report)\n",
        "print(\"Accuracy on training set: {:.4f}\".format(nn.score(X_train, y_train)))\n",
        "print(\"Accuracy on test set: {:.4f}\".format(nn.score(X_test, y_test)))\n",
        "print(\"f1: {:.4f}\".format(f1_score(y_test, y_pred_nn)))#, average='binary'\n",
        "print(\"precision_score: {:.4f}\".format(precision_score(y_test,y_pred_nn)))#\n",
        "print(\"recall_score: {:.4f}\".format(recall_score(y_test, y_pred_nn)))#\n",
        "print(\"specificity: {:.4f}\".format(recall_score(y_test, y_pred_nn,pos_label=0)))\n",
        "print(\"----------------------------------------------------------------------\")"
      ],
      "metadata": {
        "colab": {
          "base_uri": "https://localhost:8080/"
        },
        "id": "Fy-aEFbc8O3t",
        "outputId": "3b7a8bf1-b5bb-4dca-c27f-d24173c5e1de"
      },
      "execution_count": null,
      "outputs": [
        {
          "output_type": "stream",
          "name": "stdout",
          "text": [
            "Confusion Matrix: DT\n",
            "[[43 15]\n",
            " [ 3 37]]\n",
            "\n",
            "Classification Report: Decision Tree\n",
            "              precision    recall  f1-score   support\n",
            "\n",
            "           0       0.93      0.74      0.83        58\n",
            "           1       0.71      0.93      0.80        40\n",
            "\n",
            "    accuracy                           0.82        98\n",
            "   macro avg       0.82      0.83      0.82        98\n",
            "weighted avg       0.84      0.82      0.82        98\n",
            "\n",
            "Accuracy on training set: 0.8972\n",
            "Accuracy on test set: 0.8163\n",
            "f1: 0.8043\n",
            "precision_score: 0.7115\n",
            "recall_score: 0.9250\n",
            "specificity: 0.7414\n",
            "AUC: 0.8332\n",
            "----------------------------------------------------------------------\n",
            "\n",
            "Confusion Matrix: RF\n",
            "[[44 14]\n",
            " [ 3 37]]\n",
            "\n",
            "Classification Report: Random Forest\n",
            "              precision    recall  f1-score   support\n",
            "\n",
            "           0       0.94      0.76      0.84        58\n",
            "           1       0.73      0.93      0.81        40\n",
            "\n",
            "    accuracy                           0.83        98\n",
            "   macro avg       0.83      0.84      0.83        98\n",
            "weighted avg       0.85      0.83      0.83        98\n",
            "\n",
            "Accuracy on training set: 0.9203\n",
            "Accuracy on test set: 0.8265\n",
            "f1: 0.8132\n",
            "precision_score: 0.7255\n",
            "recall_score: 0.9250\n",
            "specificity: 0.7586\n",
            "----------------------------------------------------------------------\n",
            "\n",
            "Confusion Matrix: LDA\n",
            "[[47 11]\n",
            " [ 4 36]]\n",
            "\n",
            "Classification Report:Linear Discriminant Analysis\n",
            "              precision    recall  f1-score   support\n",
            "\n",
            "           0       0.92      0.81      0.86        58\n",
            "           1       0.77      0.90      0.83        40\n",
            "\n",
            "    accuracy                           0.85        98\n",
            "   macro avg       0.84      0.86      0.84        98\n",
            "weighted avg       0.86      0.85      0.85        98\n",
            "\n",
            "Accuracy on training set: 0.8458\n",
            "Accuracy on test set: 0.8469\n",
            "f1: 0.8276\n",
            "precision_score: 0.7660\n",
            "recall_score: 0.9000\n",
            "specificity: 0.8103\n",
            "----------------------------------------------------------------------\n",
            "\n",
            "Confusion Matrix: GB\n",
            "[[44 14]\n",
            " [ 3 37]]\n",
            "\n",
            "Classification Report: Gradient Boosting\n",
            "              precision    recall  f1-score   support\n",
            "\n",
            "           0       0.94      0.76      0.84        58\n",
            "           1       0.73      0.93      0.81        40\n",
            "\n",
            "    accuracy                           0.83        98\n",
            "   macro avg       0.83      0.84      0.83        98\n",
            "weighted avg       0.85      0.83      0.83        98\n",
            "\n",
            "Accuracy on training set: 0.9974\n",
            "Accuracy on test set: 0.8265\n",
            "f1: 0.8132\n",
            "precision_score: 0.7255\n",
            "recall_score: 0.9250\n",
            "specificity: 0.7586\n",
            "----------------------------------------------------------------------\n",
            "\n",
            "Confusion Matrix: LR\n",
            "[[47 11]\n",
            " [ 4 36]]\n",
            "\n",
            "Classification Report: Logistic Regression\n",
            "              precision    recall  f1-score   support\n",
            "\n",
            "           0       0.92      0.81      0.86        58\n",
            "           1       0.77      0.90      0.83        40\n",
            "\n",
            "    accuracy                           0.85        98\n",
            "   macro avg       0.84      0.86      0.84        98\n",
            "weighted avg       0.86      0.85      0.85        98\n",
            "\n",
            "Accuracy on training set: 0.8432\n",
            "Accuracy on test set: 0.8469\n",
            "f1: 0.8276\n",
            "precision_score: 0.7660\n",
            "recall_score: 0.9000\n",
            "specificity: 0.8103\n",
            "----------------------------------------------------------------------\n",
            "\n",
            "Confusion Matrix: SVM\n",
            "[[43 15]\n",
            " [ 4 36]]\n",
            "\n",
            "Classification Report: Support Vector Machine\n",
            "              precision    recall  f1-score   support\n",
            "\n",
            "           0       0.91      0.74      0.82        58\n",
            "           1       0.71      0.90      0.79        40\n",
            "\n",
            "    accuracy                           0.81        98\n",
            "   macro avg       0.81      0.82      0.81        98\n",
            "weighted avg       0.83      0.81      0.81        98\n",
            "\n",
            "Accuracy on training set: 0.8509\n",
            "Accuracy on test set: 0.8061\n",
            "f1: 0.7912\n",
            "precision_score: 0.7059\n",
            "recall_score: 0.9000\n",
            "specificity: 0.7414\n",
            "----------------------------------------------------------------------\n",
            "\n",
            "Confusion Matrix: KNN\n",
            "[[45 13]\n",
            " [ 3 37]]\n",
            "\n",
            "Classification Report: k-nearest neighbors\n",
            "              precision    recall  f1-score   support\n",
            "\n",
            "           0       0.94      0.78      0.85        58\n",
            "           1       0.74      0.93      0.82        40\n",
            "\n",
            "    accuracy                           0.84        98\n",
            "   macro avg       0.84      0.85      0.84        98\n",
            "weighted avg       0.86      0.84      0.84        98\n",
            "\n",
            "Accuracy on training set: 0.8792\n",
            "Accuracy on test set: 0.8367\n",
            "f1: 0.8222\n",
            "precision_score: 0.7400\n",
            "recall_score: 0.9250\n",
            "specificity: 0.7759\n",
            "----------------------------------------------------------------------\n",
            "\n",
            "Confusion Matrix: NN\n",
            "[[44 14]\n",
            " [ 3 37]]\n",
            "\n",
            "Classification Report: Neural Network\n",
            "              precision    recall  f1-score   support\n",
            "\n",
            "           0       0.94      0.76      0.84        58\n",
            "           1       0.73      0.93      0.81        40\n",
            "\n",
            "    accuracy                           0.83        98\n",
            "   macro avg       0.83      0.84      0.83        98\n",
            "weighted avg       0.85      0.83      0.83        98\n",
            "\n",
            "Accuracy on training set: 0.8740\n",
            "Accuracy on test set: 0.8265\n",
            "f1: 0.8132\n",
            "precision_score: 0.7255\n",
            "recall_score: 0.9250\n",
            "specificity: 0.7586\n",
            "----------------------------------------------------------------------\n"
          ]
        }
      ]
    },
    {
      "cell_type": "code",
      "source": [
        "fig=plt.figure(figsize=(40,20),facecolor='white')\n",
        "gs=fig.add_gridspec(5,8)\n",
        "ax=[None for i in range(8)]\n",
        "ax[0]=fig.add_subplot(gs[0,0])\n",
        "ax[1]=fig.add_subplot(gs[0,1])\n",
        "ax[2]=fig.add_subplot(gs[1,0])\n",
        "ax[3]=fig.add_subplot(gs[1,1])\n",
        "ax[4]=fig.add_subplot(gs[2,0])\n",
        "ax[5]=fig.add_subplot(gs[2,1])\n",
        "ax[6]=fig.add_subplot(gs[3,0])\n",
        "ax[7]=fig.add_subplot(gs[3,1])\n",
        "\n",
        "\n",
        "\n",
        "conf_dt = confusion_matrix(y_test, y_pred_dt)\n",
        "sns.heatmap(conf_dt, annot=True, ax = ax[0], fmt = 'g' ,cmap=plt.cm.bone_r)\n",
        "\n",
        "conf_rf = confusion_matrix(y_test, y_pred_rf)\n",
        "sns.heatmap(conf_rf, annot=True, ax = ax[1], fmt = 'g' ,cmap=plt.cm.bone_r)\n",
        "\n",
        "conf_lda = confusion_matrix(y_test, y_pred_lda)\n",
        "sns.heatmap(conf_lda, annot=True, ax = ax[2], fmt = 'g' ,cmap=plt.cm.bone_r)\n",
        "\n",
        "conf_gb = confusion_matrix(y_test, y_pred_gb)\n",
        "sns.heatmap(conf_gb, annot=True, ax = ax[3], fmt = 'g' ,cmap=plt.cm.bone_r)\n",
        "\n",
        "conf_lr = confusion_matrix(y_test, y_pred_lr)\n",
        "sns.heatmap(conf_lr, annot=True, ax = ax[4], fmt = 'g' ,cmap=plt.cm.bone_r)\n",
        "\n",
        "conf_svm = confusion_matrix(y_test, y_pred_svm)\n",
        "sns.heatmap(conf_svm, annot=True, ax = ax[5], fmt = 'g' ,cmap=plt.cm.bone_r)\n",
        "\n",
        "conf_knn = confusion_matrix(y_test, y_pred_knn)\n",
        "sns.heatmap(conf_knn, annot=True, ax = ax[6], fmt = 'g' ,cmap=plt.cm.bone_r)\n",
        "\n",
        "conf_nn = confusion_matrix(y_test, y_pred_nn)\n",
        "sns.heatmap(conf_nn, annot=True, ax = ax[7], fmt = 'g' ,cmap=plt.cm.bone_r)\n",
        "\n",
        "title=[\"Decision Tree\",\"Random Forest\",\"Linear Discriminant Analysis\",\"Gradient Boosting\",\"Logistic Regression\",\"Support Vector Machine\",\"k-nearest neighbors\",\"Neural Network\"]\n",
        "\n",
        "for i in range(8):\n",
        "  #ax[i].text(title[i]) #error while adding the title!\n",
        "  ax[i].set_xlabel('Predicted label')\n",
        "  ax[i].set_ylabel('True label')\n",
        "  \n",
        "  for direction in ['top','right','left']:\n",
        "    ax[i].spines[direction].set_visible(False)"
      ],
      "metadata": {
        "id": "rVlFP6zEi7_R",
        "colab": {
          "base_uri": "https://localhost:8080/",
          "height": 924
        },
        "outputId": "fe292f2c-419b-4d50-fa50-2cd5e1b7f4d4"
      },
      "execution_count": null,
      "outputs": [
        {
          "output_type": "display_data",
          "data": {
            "text/plain": [
              "<Figure size 2880x1440 with 16 Axes>"
            ],
            "image/png": "[encoded data removed]"
          },
          "metadata": {}
        }
      ]
    },
    {
      "cell_type": "code",
      "source": [
        "#checking the correct order of the Confusion Matrix\n",
        "list(zip(['tn', 'fp', 'fn', 'tp'],np.array([[47,9], [4,38]]).ravel()))"
      ],
      "metadata": {
        "colab": {
          "base_uri": "https://localhost:8080/"
        },
        "id": "u0Ah4yRaZ6Og",
        "outputId": "3bc57fd7-4cb1-4fa1-9451-4c1a2a3668d7"
      },
      "execution_count": null,
      "outputs": [
        {
          "output_type": "execute_result",
          "data": {
            "text/plain": [
              "[('tn', 47), ('fp', 9), ('fn', 4), ('tp', 38)]"
            ]
          },
          "metadata": {},
          "execution_count": 468
        }
      ]
    },
    {
      "cell_type": "markdown",
      "source": [
        "The correct axes of confusion matrix according to sklearn.\n",
        "Ref:\n",
        "\n",
        "\n",
        "*   [sklearn.metrics.confusion_matrixt](https://scikit-learn.org/stable/modules/generated/sklearn.metrics.confusion_matrix.html)\n",
        "*   [Understanding the Confusion Matrix from Scikit learn](https://towardsdatascience.com/understanding-the-confusion-matrix-from-scikit-learn-c51d88929c79)\n",
        "\n"
      ],
      "metadata": {
        "id": "9YChtrRxrtJy"
      }
    },
    {
      "cell_type": "markdown",
      "source": [
        "![cm.PNG](data:image/png;base64,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)"
      ],
      "metadata": {
        "id": "ryw3JUGfrBZ1"
      }
    },
    {
      "cell_type": "code",
      "source": [
        "ConfusionMatrixDisplay.from_predictions(y_test, y_pred_nn,cmap='bone_r') \n",
        "plt.title('Multi-layer Perceptron')"
      ],
      "metadata": {
        "colab": {
          "base_uri": "https://localhost:8080/",
          "height": 313
        },
        "id": "2YDE6fMhbIqF",
        "outputId": "0e69397b-5f23-4d00-82c8-1889ebeb558b"
      },
      "execution_count": null,
      "outputs": [
        {
          "output_type": "execute_result",
          "data": {
            "text/plain": [
              "Text(0.5, 1.0, 'Multi-layer Perceptron')"
            ]
          },
          "metadata": {},
          "execution_count": 469
        },
        {
          "output_type": "display_data",
          "data": {
            "text/plain": [
              "<Figure size 432x288 with 2 Axes>"
            ],
            "image/png": "[encoded data removed]"
          },
          "metadata": {
            "needs_background": "light"
          }
        }
      ]
    },
    {
      "cell_type": "code",
      "source": [
        "ConfusionMatrixDisplay.from_predictions(y_test, y_pred_knn,cmap='bone_r') \n",
        "plt.title('k-nearest neighbors')"
      ],
      "metadata": {
        "colab": {
          "base_uri": "https://localhost:8080/",
          "height": 313
        },
        "id": "nF7NmDcGf0vk",
        "outputId": "8a39ae5b-5723-4238-d8fb-1d873f4f2431"
      },
      "execution_count": null,
      "outputs": [
        {
          "output_type": "execute_result",
          "data": {
            "text/plain": [
              "Text(0.5, 1.0, 'k-nearest neighbors')"
            ]
          },
          "metadata": {},
          "execution_count": 470
        },
        {
          "output_type": "display_data",
          "data": {
            "text/plain": [
              "<Figure size 432x288 with 2 Axes>"
            ],
            "image/png": "[encoded data removed]"
          },
          "metadata": {
            "needs_background": "light"
          }
        }
      ]
    },
    {
      "cell_type": "code",
      "source": [
        "ConfusionMatrixDisplay.from_predictions(y_test, y_pred_dt,cmap='bone_r') \n",
        "plt.title('Decision Tree')"
      ],
      "metadata": {
        "colab": {
          "base_uri": "https://localhost:8080/",
          "height": 313
        },
        "id": "BKKlitxjhsIl",
        "outputId": "fd798450-96b8-4f05-a54d-796c32aad12a"
      },
      "execution_count": null,
      "outputs": [
        {
          "output_type": "execute_result",
          "data": {
            "text/plain": [
              "Text(0.5, 1.0, 'Decision Tree')"
            ]
          },
          "metadata": {},
          "execution_count": 471
        },
        {
          "output_type": "display_data",
          "data": {
            "text/plain": [
              "<Figure size 432x288 with 2 Axes>"
            ],
            "image/png": "[encoded data removed]"
          },
          "metadata": {
            "needs_background": "light"
          }
        }
      ]
    },
    {
      "cell_type": "code",
      "source": [
        "ConfusionMatrixDisplay.from_predictions(y_test, y_pred_rf,cmap='bone_r') \n",
        "plt.title('Random Forest')"
      ],
      "metadata": {
        "colab": {
          "base_uri": "https://localhost:8080/",
          "height": 313
        },
        "id": "wd53F_ENh1nR",
        "outputId": "4c351768-83eb-431e-cf87-0548e63a0db8"
      },
      "execution_count": null,
      "outputs": [
        {
          "output_type": "execute_result",
          "data": {
            "text/plain": [
              "Text(0.5, 1.0, 'Random Forest')"
            ]
          },
          "metadata": {},
          "execution_count": 472
        },
        {
          "output_type": "display_data",
          "data": {
            "text/plain": [
              "<Figure size 432x288 with 2 Axes>"
            ],
            "image/png": "[encoded data removed]"
          },
          "metadata": {
            "needs_background": "light"
          }
        }
      ]
    },
    {
      "cell_type": "code",
      "source": [
        "ConfusionMatrixDisplay.from_predictions(y_test, y_pred_lr,cmap='bone_r') \n",
        "plt.title('Logistic Regression')"
      ],
      "metadata": {
        "colab": {
          "base_uri": "https://localhost:8080/",
          "height": 313
        },
        "id": "r5WWG7VdoM8u",
        "outputId": "dafb2176-6d27-40a8-9ac4-d4c6878173a4"
      },
      "execution_count": null,
      "outputs": [
        {
          "output_type": "execute_result",
          "data": {
            "text/plain": [
              "Text(0.5, 1.0, 'Logistic Regression')"
            ]
          },
          "metadata": {},
          "execution_count": 473
        },
        {
          "output_type": "display_data",
          "data": {
            "text/plain": [
              "<Figure size 432x288 with 2 Axes>"
            ],
            "image/png": "[encoded data removed]"
          },
          "metadata": {
            "needs_background": "light"
          }
        }
      ]
    },
    {
      "cell_type": "code",
      "source": [
        "ConfusionMatrixDisplay.from_predictions(y_test, y_pred_svm,cmap='bone_r') \n",
        "plt.title('Support Vector Machine')"
      ],
      "metadata": {
        "colab": {
          "base_uri": "https://localhost:8080/",
          "height": 313
        },
        "id": "ON6yKA-roWsh",
        "outputId": "fb6572d5-c79f-47bc-cd7c-5ef8d9f825e4"
      },
      "execution_count": null,
      "outputs": [
        {
          "output_type": "execute_result",
          "data": {
            "text/plain": [
              "Text(0.5, 1.0, 'Support Vector Machine')"
            ]
          },
          "metadata": {},
          "execution_count": 474
        },
        {
          "output_type": "display_data",
          "data": {
            "text/plain": [
              "<Figure size 432x288 with 2 Axes>"
            ],
            "image/png": "[encoded data removed]"
          },
          "metadata": {
            "needs_background": "light"
          }
        }
      ]
    },
    {
      "cell_type": "code",
      "source": [
        "ConfusionMatrixDisplay.from_predictions(y_test, y_pred_gb,cmap='bone_r') \n",
        "plt.title('Gradient Boosting')"
      ],
      "metadata": {
        "colab": {
          "base_uri": "https://localhost:8080/",
          "height": 313
        },
        "id": "fN4VeS81oZ-L",
        "outputId": "7391e8cd-1486-49a6-e8c2-a5c30386190c"
      },
      "execution_count": null,
      "outputs": [
        {
          "output_type": "execute_result",
          "data": {
            "text/plain": [
              "Text(0.5, 1.0, 'Gradient Boosting')"
            ]
          },
          "metadata": {},
          "execution_count": 475
        },
        {
          "output_type": "display_data",
          "data": {
            "text/plain": [
              "<Figure size 432x288 with 2 Axes>"
            ],
            "image/png": "[encoded data removed]"
          },
          "metadata": {
            "needs_background": "light"
          }
        }
      ]
    },
    {
      "cell_type": "code",
      "source": [
        "ConfusionMatrixDisplay.from_predictions(y_test, y_pred_lda,cmap='bone_r') \n",
        "plt.title('Linear Discriminant Analysis')"
      ],
      "metadata": {
        "colab": {
          "base_uri": "https://localhost:8080/",
          "height": 313
        },
        "id": "cEJwAp-Rojts",
        "outputId": "f53ab49d-6a6a-4592-8d97-88bb096852d6"
      },
      "execution_count": null,
      "outputs": [
        {
          "output_type": "execute_result",
          "data": {
            "text/plain": [
              "Text(0.5, 1.0, 'Linear Discriminant Analysis')"
            ]
          },
          "metadata": {},
          "execution_count": 476
        },
        {
          "output_type": "display_data",
          "data": {
            "text/plain": [
              "<Figure size 432x288 with 2 Axes>"
            ],
            "image/png": "[encoded data removed]"
          },
          "metadata": {
            "needs_background": "light"
          }
        }
      ]
    },
    {
      "cell_type": "markdown",
      "source": [
        "ROC Curve\n",
        "[REF](https://www.imranabdullah.com/2019-06-01/Drawing-multiple-ROC-Curves-in-a-single-plot)"
      ],
      "metadata": {
        "id": "H1pFl9vmHBov"
      }
    },
    {
      "cell_type": "code",
      "source": [
        "# plot the hard class prediction \"predict\" - not used\n",
        "\n",
        "#All algorithms initialized already on the previous steps\n",
        "classifiers = [dt, \n",
        "               rf, \n",
        "               lda, \n",
        "               gb,\n",
        "               lr,\n",
        "               svm,\n",
        "               knn,\n",
        "               nn]\n",
        "\n",
        "\n",
        "result_table = pd.DataFrame(columns=['classifiers', 'fpr','tpr','auc'])\n",
        "\n",
        "\n",
        "for cls in classifiers:\n",
        "    model = cls.fit(X_train, y_train)\n",
        "    proba = model.predict(X_test)\n",
        "    \n",
        "    fpr, tpr, _ = roc_curve(y_test,  proba)\n",
        "    auc = metrics.auc(fpr, tpr)\n",
        "    \n",
        "    result_table = result_table.append({'classifiers':cls.__class__.__name__,\n",
        "                                        'fpr':fpr, \n",
        "                                        'tpr':tpr, \n",
        "                                        'auc':auc}, ignore_index=True)\n",
        "\n",
        "\n",
        "result_table.set_index('classifiers', inplace=True)\n",
        "\n",
        "fig = plt.figure(figsize=(8,6))\n",
        "\n",
        "for i in result_table.index:\n",
        "    plt.plot(result_table.loc[i]['fpr'], \n",
        "             result_table.loc[i]['tpr'], \n",
        "             label=\"{}, AUC={:.3f}\".format(i, result_table.loc[i]['auc']))\n",
        "    \n",
        "plt.plot([0,1], [0,1], color='orange', linestyle='--')\n",
        "\n",
        "plt.xticks(np.arange(0.0, 1.1, step=0.1))\n",
        "plt.xlabel(\"Flase Positive Rate\", fontsize=15)\n",
        "\n",
        "plt.yticks(np.arange(0.0, 1.1, step=0.1))\n",
        "plt.ylabel(\"True Positive Rate\", fontsize=15)\n",
        "\n",
        "plt.title('ROC Curve Analysis', fontweight='bold', fontsize=15)\n",
        "plt.legend(prop={'size':13}, loc='lower right')\n",
        "\n",
        "plt.show()"
      ],
      "metadata": {
        "id": "thxW_szl0vYQ",
        "colab": {
          "base_uri": "https://localhost:8080/",
          "height": 411
        },
        "outputId": "d1dc7f1a-be6e-427a-8d80-ea58fc511818"
      },
      "execution_count": null,
      "outputs": [
        {
          "output_type": "display_data",
          "data": {
            "text/plain": [
              "<Figure size 576x432 with 1 Axes>"
            ],
            "image/png": "[encoded data removed]"
          },
          "metadata": {
            "needs_background": "light"
          }
        }
      ]
    },
    {
      "cell_type": "code",
      "source": [
        "# plot predicted probabilities \"predict_proba\"\n",
        "\n",
        "from sklearn.metrics import roc_curve, auc\n",
        "\n",
        "classifiers = [dt, \n",
        "               rf, \n",
        "               lda, \n",
        "               gb,\n",
        "               lr,\n",
        "               svm,\n",
        "               knn,\n",
        "               nn]\n",
        "\n",
        "\n",
        "result_table = pd.DataFrame(columns=['classifiers', 'fpr','tpr','auc'])\n",
        "\n",
        "\n",
        "for cls in classifiers:\n",
        "    model = cls.fit(X_train, y_train)\n",
        "    yproba = model.predict_proba(X_test)[:,1]\n",
        "    \n",
        "    fpr, tpr, _ = roc_curve(y_test,  yproba)\n",
        "    auc = metrics.auc(fpr, tpr)\n",
        "    \n",
        "    result_table = result_table.append({'classifiers':cls.__class__.__name__,\n",
        "                                        'fpr':fpr, \n",
        "                                        'tpr':tpr, \n",
        "                                        'auc':auc}, ignore_index=True)\n",
        "\n",
        "\n",
        "result_table.set_index('classifiers', inplace=True)\n",
        "\n",
        "fig = plt.figure(figsize=(8,6))\n",
        "\n",
        "for i in result_table.index:\n",
        "    plt.plot(result_table.loc[i]['fpr'], \n",
        "             result_table.loc[i]['tpr'], \n",
        "             label=\"{}, AUC={:.2f}\".format(i, result_table.loc[i]['auc']))\n",
        "    \n",
        "plt.plot([0,1], [0,1], color='orange', linestyle='--')\n",
        "\n",
        "plt.xticks(np.arange(0.0, 1.1, step=0.1))\n",
        "plt.xlabel(\"Flase Positive Rate\", fontsize=15)\n",
        "\n",
        "plt.yticks(np.arange(0.0, 1.1, step=0.1))\n",
        "plt.ylabel(\"True Positive Rate\", fontsize=15)\n",
        "\n",
        "plt.title('ROC Curve Analysis', fontweight='bold', fontsize=15)\n",
        "plt.legend(prop={'size':13}, loc='lower right')\n",
        "\n",
        "plt.show()"
      ],
      "metadata": {
        "colab": {
          "base_uri": "https://localhost:8080/",
          "height": 411
        },
        "id": "3MGeVk26xxzV",
        "outputId": "e8c87ba1-c767-45e1-82cf-c8ced45ff240"
      },
      "execution_count": null,
      "outputs": [
        {
          "output_type": "display_data",
          "data": {
            "text/plain": [
              "<Figure size 576x432 with 1 Axes>"
            ],
            "image/png": "[encoded data removed]"
          },
          "metadata": {
            "needs_background": "light"
          }
        }
      ]
    },
    {
      "cell_type": "code",
      "source": [
        "# plot single model class probabilities\n",
        "\n",
        "classifier = knn\n",
        "probas_ = classifier.fit(X_train, y_train).predict_proba(X_test)\n",
        "\n",
        "# Compute ROC curve and area the curve\n",
        "fpr, tpr, thresholds = roc_curve(y_test, probas_[:, 1])\n",
        "roc_auc = metrics.auc(fpr, tpr)\n",
        "print(\"Area under the ROC curve : %f\" % roc_auc) \n",
        "\n",
        "# Plot ROC curve\n",
        "plt.clf()\n",
        "plt.plot(fpr, tpr, label='ROC curve (area = %0.2f)' % roc_auc)\n",
        "plt.plot([0, 1], [0, 1], 'k--')\n",
        "plt.xlim([0.0, 1.0])\n",
        "plt.ylim([0.0, 1.0])\n",
        "plt.xlabel('False Positive Rate')\n",
        "plt.ylabel('True Positive Rate')\n",
        "plt.title('Receiver operating characteristic example')\n",
        "plt.legend(loc=\"lower right\")\n",
        "plt.show()"
      ],
      "metadata": {
        "colab": {
          "base_uri": "https://localhost:8080/",
          "height": 313
        },
        "id": "MpwOApVe6w-I",
        "outputId": "23466c53-493b-4c63-cfb7-875016c2208d"
      },
      "execution_count": null,
      "outputs": [
        {
          "output_type": "stream",
          "name": "stdout",
          "text": [
            "Area under the ROC curve : 0.938362\n"
          ]
        },
        {
          "output_type": "display_data",
          "data": {
            "text/plain": [
              "<Figure size 432x288 with 1 Axes>"
            ],
            "image/png": "[encoded data removed]"
          },
          "metadata": {
            "needs_background": "light"
          }
        }
      ]
    },
    {
      "cell_type": "markdown",
      "source": [
        "Cross validation"
      ],
      "metadata": {
        "id": "bh9Kxesm6f5R"
      }
    },
    {
      "cell_type": "code",
      "source": [
        "models = []\n",
        "models.append(('Decision Tree', dt))\n",
        "models.append(('Random Forest', rf))\n",
        "models.append(('Linear Discriminant Analysis', lda))\n",
        "models.append(('Gradient Boosting', gb))\n",
        "models.append(('Logistic Regression', lr))\n",
        "models.append(('SVM', svm))\n",
        "models.append(('K Neighbors Classifier', knn))\n",
        "models.append(('Neural Network', nn))"
      ],
      "metadata": {
        "id": "_7YkMF_rQVsF"
      },
      "execution_count": null,
      "outputs": []
    },
    {
      "cell_type": "code",
      "source": [
        "cv = KFold(n_splits=10, shuffle=True,random_state=seed)"
      ],
      "metadata": {
        "id": "K6ZS_1lssKKk"
      },
      "execution_count": null,
      "outputs": []
    },
    {
      "cell_type": "code",
      "source": [
        "# accuracy\n",
        "results_boxplot = []\n",
        "names = []\n",
        "results_mean = []\n",
        "results_std = []\n",
        "p,t = X_train, y_train.ravel()\n",
        "for name, model in models:\n",
        "    cv_results = cross_val_score(model, p,t, cv=cv,scoring='accuracy')\n",
        "    results_boxplot.append(cv_results)\n",
        "    results_mean.append(cv_results.mean())\n",
        "    results_std.append(cv_results.std())\n",
        "    names.append(name)\n",
        "pd.DataFrame({\"Algorithm\":names,\n",
        "                                \"Accuracy Mean\":results_mean,\n",
        "                                \"std\":results_std})"
      ],
      "metadata": {
        "colab": {
          "base_uri": "https://localhost:8080/",
          "height": 300
        },
        "id": "hEkDU9IFRWn4",
        "outputId": "6de40ea7-edec-4979-f065-736dc90bf65b"
      },
      "execution_count": null,
      "outputs": [
        {
          "output_type": "execute_result",
          "data": {
            "text/plain": [
              "                      Algorithm  Accuracy Mean       std\n",
              "0                 Decision Tree       0.827665  0.061049\n",
              "1                 Random Forest       0.843252  0.034994\n",
              "2  Linear Discriminant Analysis       0.835425  0.057707\n",
              "3             Gradient Boosting       0.848178  0.042771\n",
              "4           Logistic Regression       0.835425  0.058836\n",
              "5                           SVM       0.837989  0.054022\n",
              "6        K Neighbors Classifier       0.866329  0.048354\n",
              "7                Neural Network       0.853441  0.050126"
            ],
            "text/html": [
              "\n",
              "  <div id=\"df-ac61baf4-a39a-4c56-aaea-482dceaf1338\">\n",
              "    <div class=\"colab-df-container\">\n",
              "      <div>\n",
              "<style scoped>\n",
              "    .dataframe tbody tr th:only-of-type {\n",
              "        vertical-align: middle;\n",
              "    }\n",
              "\n",
              "    .dataframe tbody tr th {\n",
              "        vertical-align: top;\n",
              "    }\n",
              "\n",
              "    .dataframe thead th {\n",
              "        text-align: right;\n",
              "    }\n",
              "</style>\n",
              "<table border=\"1\" class=\"dataframe\">\n",
              "  <thead>\n",
              "    <tr style=\"text-align: right;\">\n",
              "      <th></th>\n",
              "      <th>Algorithm</th>\n",
              "      <th>Accuracy Mean</th>\n",
              "      <th>std</th>\n",
              "    </tr>\n",
              "  </thead>\n",
              "  <tbody>\n",
              "    <tr>\n",
              "      <th>0</th>\n",
              "      <td>Decision Tree</td>\n",
              "      <td>0.827665</td>\n",
              "      <td>0.061049</td>\n",
              "    </tr>\n",
              "    <tr>\n",
              "      <th>1</th>\n",
              "      <td>Random Forest</td>\n",
              "      <td>0.843252</td>\n",
              "      <td>0.034994</td>\n",
              "    </tr>\n",
              "    <tr>\n",
              "      <th>2</th>\n",
              "      <td>Linear Discriminant Analysis</td>\n",
              "      <td>0.835425</td>\n",
              "      <td>0.057707</td>\n",
              "    </tr>\n",
              "    <tr>\n",
              "      <th>3</th>\n",
              "      <td>Gradient Boosting</td>\n",
              "      <td>0.848178</td>\n",
              "      <td>0.042771</td>\n",
              "    </tr>\n",
              "    <tr>\n",
              "      <th>4</th>\n",
              "      <td>Logistic Regression</td>\n",
              "      <td>0.835425</td>\n",
              "      <td>0.058836</td>\n",
              "    </tr>\n",
              "    <tr>\n",
              "      <th>5</th>\n",
              "      <td>SVM</td>\n",
              "      <td>0.837989</td>\n",
              "      <td>0.054022</td>\n",
              "    </tr>\n",
              "    <tr>\n",
              "      <th>6</th>\n",
              "      <td>K Neighbors Classifier</td>\n",
              "      <td>0.866329</td>\n",
              "      <td>0.048354</td>\n",
              "    </tr>\n",
              "    <tr>\n",
              "      <th>7</th>\n",
              "      <td>Neural Network</td>\n",
              "      <td>0.853441</td>\n",
              "      <td>0.050126</td>\n",
              "    </tr>\n",
              "  </tbody>\n",
              "</table>\n",
              "</div>\n",
              "      <button class=\"colab-df-convert\" onclick=\"convertToInteractive('df-ac61baf4-a39a-4c56-aaea-482dceaf1338')\"\n",
              "              title=\"Convert this dataframe to an interactive table.\"\n",
              "              style=\"display:none;\">\n",
              "        \n",
              "  <svg xmlns=\"http://www.w3.org/2000/svg\" height=\"24px\"viewBox=\"0 0 24 24\"\n",
              "       width=\"24px\">\n",
              "    <path d=\"M0 0h24v24H0V0z\" fill=\"none\"/>\n",
              "    <path d=\"M18.56 5.44l.94 2.06.94-2.06 2.06-.94-2.06-.94-.94-2.06-.94 2.06-2.06.94zm-11 1L8.5 8.5l.94-2.06 2.06-.94-2.06-.94L8.5 2.5l-.94 2.06-2.06.94zm10 10l.94 2.06.94-2.06 2.06-.94-2.06-.94-.94-2.06-.94 2.06-2.06.94z\"/><path d=\"M17.41 7.96l-1.37-1.37c-.4-.4-.92-.59-1.43-.59-.52 0-1.04.2-1.43.59L10.3 9.45l-7.72 7.72c-.78.78-.78 2.05 0 2.83L4 21.41c.39.39.9.59 1.41.59.51 0 1.02-.2 1.41-.59l7.78-7.78 2.81-2.81c.8-.78.8-2.07 0-2.86zM5.41 20L4 18.59l7.72-7.72 1.47 1.35L5.41 20z\"/>\n",
              "  </svg>\n",
              "      </button>\n",
              "      \n",
              "  <style>\n",
              "    .colab-df-container {\n",
              "      display:flex;\n",
              "      flex-wrap:wrap;\n",
              "      gap: 12px;\n",
              "    }\n",
              "\n",
              "    .colab-df-convert {\n",
              "      background-color: #E8F0FE;\n",
              "      border: none;\n",
              "      border-radius: 50%;\n",
              "      cursor: pointer;\n",
              "      display: none;\n",
              "      fill: #1967D2;\n",
              "      height: 32px;\n",
              "      padding: 0 0 0 0;\n",
              "      width: 32px;\n",
              "    }\n",
              "\n",
              "    .colab-df-convert:hover {\n",
              "      background-color: #E2EBFA;\n",
              "      box-shadow: 0px 1px 2px rgba(60, 64, 67, 0.3), 0px 1px 3px 1px rgba(60, 64, 67, 0.15);\n",
              "      fill: #174EA6;\n",
              "    }\n",
              "\n",
              "    [theme=dark] .colab-df-convert {\n",
              "      background-color: #3B4455;\n",
              "      fill: #D2E3FC;\n",
              "    }\n",
              "\n",
              "    [theme=dark] .colab-df-convert:hover {\n",
              "      background-color: #434B5C;\n",
              "      box-shadow: 0px 1px 3px 1px rgba(0, 0, 0, 0.15);\n",
              "      filter: drop-shadow(0px 1px 2px rgba(0, 0, 0, 0.3));\n",
              "      fill: #FFFFFF;\n",
              "    }\n",
              "  </style>\n",
              "\n",
              "      <script>\n",
              "        const buttonEl =\n",
              "          document.querySelector('#df-ac61baf4-a39a-4c56-aaea-482dceaf1338 button.colab-df-convert');\n",
              "        buttonEl.style.display =\n",
              "          google.colab.kernel.accessAllowed ? 'block' : 'none';\n",
              "\n",
              "        async function convertToInteractive(key) {\n",
              "          const element = document.querySelector('#df-ac61baf4-a39a-4c56-aaea-482dceaf1338');\n",
              "          const dataTable =\n",
              "            await google.colab.kernel.invokeFunction('convertToInteractive',\n",
              "                                                     [key], {});\n",
              "          if (!dataTable) return;\n",
              "\n",
              "          const docLinkHtml = 'Like what you see? Visit the ' +\n",
              "            '<a target=\"_blank\" href=https://colab.research.google.com/notebooks/data_table.ipynb>data table notebook</a>'\n",
              "            + ' to learn more about interactive tables.';\n",
              "          element.innerHTML = '';\n",
              "          dataTable['output_type'] = 'display_data';\n",
              "          await google.colab.output.renderOutput(dataTable, element);\n",
              "          const docLink = document.createElement('div');\n",
              "          docLink.innerHTML = docLinkHtml;\n",
              "          element.appendChild(docLink);\n",
              "        }\n",
              "      </script>\n",
              "    </div>\n",
              "  </div>\n",
              "  "
            ]
          },
          "metadata": {},
          "execution_count": 483
        }
      ]
    },
    {
      "cell_type": "code",
      "source": [
        "fig = plt.figure(figsize=(7,5))\n",
        "fig.suptitle('Algorithm Comparison')\n",
        "ax = fig.add_subplot(1,1,1)\n",
        "plt.boxplot(results_boxplot)\n",
        "ax.set_xticklabels(names)\n",
        "plt.xticks(rotation=45)\n",
        "plt.xlabel('Method')\n",
        "plt.ylabel('Total Accuracy')\n",
        "\n",
        "plt.show()"
      ],
      "metadata": {
        "colab": {
          "base_uri": "https://localhost:8080/",
          "height": 454
        },
        "id": "nxGVLw5tdayM",
        "outputId": "bb993a59-22d7-40cf-fb5c-4972adc38604"
      },
      "execution_count": null,
      "outputs": [
        {
          "output_type": "display_data",
          "data": {
            "text/plain": [
              "<Figure size 504x360 with 1 Axes>"
            ],
            "image/png": "[encoded data removed]"
          },
          "metadata": {
            "needs_background": "light"
          }
        }
      ]
    },
    {
      "cell_type": "markdown",
      "source": [
        "[REF](https://github.com/josetvrs/Stroke_prediction)"
      ],
      "metadata": {
        "id": "mIg3bd0G4Wef"
      }
    },
    {
      "cell_type": "code",
      "source": [
        "# recall\n",
        "results_boxplot = []\n",
        "names = []\n",
        "results_mean = []\n",
        "results_std = []\n",
        "p,t = X_train, y_train.ravel()\n",
        "for name, model in models:\n",
        "    cv_results = cross_val_score(model, p,t, cv=cv,scoring='recall')#sensitivity\n",
        "    results_boxplot.append(cv_results)\n",
        "    results_mean.append(cv_results.mean())\n",
        "    results_std.append(cv_results.std())\n",
        "    names.append(name)\n",
        "pd.DataFrame({\"Algorithm\":names,\n",
        "                                \"recall Mean\":results_mean,\n",
        "                                \"std\":results_std})"
      ],
      "metadata": {
        "colab": {
          "base_uri": "https://localhost:8080/",
          "height": 300
        },
        "id": "8-Q5MXC0wjkZ",
        "outputId": "2523dc2a-68af-4164-f455-15ea239e798d"
      },
      "execution_count": null,
      "outputs": [
        {
          "output_type": "execute_result",
          "data": {
            "text/plain": [
              "                      Algorithm  recall Mean       std\n",
              "0                 Decision Tree     0.794892  0.124627\n",
              "1                 Random Forest     0.816254  0.069352\n",
              "2  Linear Discriminant Analysis     0.763830  0.120326\n",
              "3             Gradient Boosting     0.831116  0.063758\n",
              "4           Logistic Regression     0.758830  0.123862\n",
              "5                           SVM     0.794915  0.118434\n",
              "6        K Neighbors Classifier     0.833589  0.095878\n",
              "7                Neural Network     0.830999  0.111891"
            ],
            "text/html": [
              "\n",
              "  <div id=\"df-4494cb96-03b6-45a3-8d65-19d65a8a49b5\">\n",
              "    <div class=\"colab-df-container\">\n",
              "      <div>\n",
              "<style scoped>\n",
              "    .dataframe tbody tr th:only-of-type {\n",
              "        vertical-align: middle;\n",
              "    }\n",
              "\n",
              "    .dataframe tbody tr th {\n",
              "        vertical-align: top;\n",
              "    }\n",
              "\n",
              "    .dataframe thead th {\n",
              "        text-align: right;\n",
              "    }\n",
              "</style>\n",
              "<table border=\"1\" class=\"dataframe\">\n",
              "  <thead>\n",
              "    <tr style=\"text-align: right;\">\n",
              "      <th></th>\n",
              "      <th>Algorithm</th>\n",
              "      <th>recall Mean</th>\n",
              "      <th>std</th>\n",
              "    </tr>\n",
              "  </thead>\n",
              "  <tbody>\n",
              "    <tr>\n",
              "      <th>0</th>\n",
              "      <td>Decision Tree</td>\n",
              "      <td>0.794892</td>\n",
              "      <td>0.124627</td>\n",
              "    </tr>\n",
              "    <tr>\n",
              "      <th>1</th>\n",
              "      <td>Random Forest</td>\n",
              "      <td>0.816254</td>\n",
              "      <td>0.069352</td>\n",
              "    </tr>\n",
              "    <tr>\n",
              "      <th>2</th>\n",
              "      <td>Linear Discriminant Analysis</td>\n",
              "      <td>0.763830</td>\n",
              "      <td>0.120326</td>\n",
              "    </tr>\n",
              "    <tr>\n",
              "      <th>3</th>\n",
              "      <td>Gradient Boosting</td>\n",
              "      <td>0.831116</td>\n",
              "      <td>0.063758</td>\n",
              "    </tr>\n",
              "    <tr>\n",
              "      <th>4</th>\n",
              "      <td>Logistic Regression</td>\n",
              "      <td>0.758830</td>\n",
              "      <td>0.123862</td>\n",
              "    </tr>\n",
              "    <tr>\n",
              "      <th>5</th>\n",
              "      <td>SVM</td>\n",
              "      <td>0.794915</td>\n",
              "      <td>0.118434</td>\n",
              "    </tr>\n",
              "    <tr>\n",
              "      <th>6</th>\n",
              "      <td>K Neighbors Classifier</td>\n",
              "      <td>0.833589</td>\n",
              "      <td>0.095878</td>\n",
              "    </tr>\n",
              "    <tr>\n",
              "      <th>7</th>\n",
              "      <td>Neural Network</td>\n",
              "      <td>0.830999</td>\n",
              "      <td>0.111891</td>\n",
              "    </tr>\n",
              "  </tbody>\n",
              "</table>\n",
              "</div>\n",
              "      <button class=\"colab-df-convert\" onclick=\"convertToInteractive('df-4494cb96-03b6-45a3-8d65-19d65a8a49b5')\"\n",
              "              title=\"Convert this dataframe to an interactive table.\"\n",
              "              style=\"display:none;\">\n",
              "        \n",
              "  <svg xmlns=\"http://www.w3.org/2000/svg\" height=\"24px\"viewBox=\"0 0 24 24\"\n",
              "       width=\"24px\">\n",
              "    <path d=\"M0 0h24v24H0V0z\" fill=\"none\"/>\n",
              "    <path d=\"M18.56 5.44l.94 2.06.94-2.06 2.06-.94-2.06-.94-.94-2.06-.94 2.06-2.06.94zm-11 1L8.5 8.5l.94-2.06 2.06-.94-2.06-.94L8.5 2.5l-.94 2.06-2.06.94zm10 10l.94 2.06.94-2.06 2.06-.94-2.06-.94-.94-2.06-.94 2.06-2.06.94z\"/><path d=\"M17.41 7.96l-1.37-1.37c-.4-.4-.92-.59-1.43-.59-.52 0-1.04.2-1.43.59L10.3 9.45l-7.72 7.72c-.78.78-.78 2.05 0 2.83L4 21.41c.39.39.9.59 1.41.59.51 0 1.02-.2 1.41-.59l7.78-7.78 2.81-2.81c.8-.78.8-2.07 0-2.86zM5.41 20L4 18.59l7.72-7.72 1.47 1.35L5.41 20z\"/>\n",
              "  </svg>\n",
              "      </button>\n",
              "      \n",
              "  <style>\n",
              "    .colab-df-container {\n",
              "      display:flex;\n",
              "      flex-wrap:wrap;\n",
              "      gap: 12px;\n",
              "    }\n",
              "\n",
              "    .colab-df-convert {\n",
              "      background-color: #E8F0FE;\n",
              "      border: none;\n",
              "      border-radius: 50%;\n",
              "      cursor: pointer;\n",
              "      display: none;\n",
              "      fill: #1967D2;\n",
              "      height: 32px;\n",
              "      padding: 0 0 0 0;\n",
              "      width: 32px;\n",
              "    }\n",
              "\n",
              "    .colab-df-convert:hover {\n",
              "      background-color: #E2EBFA;\n",
              "      box-shadow: 0px 1px 2px rgba(60, 64, 67, 0.3), 0px 1px 3px 1px rgba(60, 64, 67, 0.15);\n",
              "      fill: #174EA6;\n",
              "    }\n",
              "\n",
              "    [theme=dark] .colab-df-convert {\n",
              "      background-color: #3B4455;\n",
              "      fill: #D2E3FC;\n",
              "    }\n",
              "\n",
              "    [theme=dark] .colab-df-convert:hover {\n",
              "      background-color: #434B5C;\n",
              "      box-shadow: 0px 1px 3px 1px rgba(0, 0, 0, 0.15);\n",
              "      filter: drop-shadow(0px 1px 2px rgba(0, 0, 0, 0.3));\n",
              "      fill: #FFFFFF;\n",
              "    }\n",
              "  </style>\n",
              "\n",
              "      <script>\n",
              "        const buttonEl =\n",
              "          document.querySelector('#df-4494cb96-03b6-45a3-8d65-19d65a8a49b5 button.colab-df-convert');\n",
              "        buttonEl.style.display =\n",
              "          google.colab.kernel.accessAllowed ? 'block' : 'none';\n",
              "\n",
              "        async function convertToInteractive(key) {\n",
              "          const element = document.querySelector('#df-4494cb96-03b6-45a3-8d65-19d65a8a49b5');\n",
              "          const dataTable =\n",
              "            await google.colab.kernel.invokeFunction('convertToInteractive',\n",
              "                                                     [key], {});\n",
              "          if (!dataTable) return;\n",
              "\n",
              "          const docLinkHtml = 'Like what you see? Visit the ' +\n",
              "            '<a target=\"_blank\" href=https://colab.research.google.com/notebooks/data_table.ipynb>data table notebook</a>'\n",
              "            + ' to learn more about interactive tables.';\n",
              "          element.innerHTML = '';\n",
              "          dataTable['output_type'] = 'display_data';\n",
              "          await google.colab.output.renderOutput(dataTable, element);\n",
              "          const docLink = document.createElement('div');\n",
              "          docLink.innerHTML = docLinkHtml;\n",
              "          element.appendChild(docLink);\n",
              "        }\n",
              "      </script>\n",
              "    </div>\n",
              "  </div>\n",
              "  "
            ]
          },
          "metadata": {},
          "execution_count": 485
        }
      ]
    },
    {
      "cell_type": "code",
      "source": [
        "# f1\n",
        "results_boxplot = []\n",
        "names = []\n",
        "results_mean = []\n",
        "results_std = []\n",
        "p,t = X_train, y_train.ravel()\n",
        "for name, model in models:\n",
        "    cv_results = cross_val_score(model, p,t, cv=cv,scoring='f1')\n",
        "    results_boxplot.append(cv_results)\n",
        "    results_mean.append(cv_results.mean())\n",
        "    results_std.append(cv_results.std())\n",
        "    names.append(name)\n",
        "pd.DataFrame({\"Algorithm\":names,\n",
        "                                \"f1 Mean\":results_mean,\n",
        "                                \"std\":results_std})"
      ],
      "metadata": {
        "colab": {
          "base_uri": "https://localhost:8080/",
          "height": 300
        },
        "id": "P0n6LA1Ew2vE",
        "outputId": "0494c305-9b24-42c2-aa27-fb9fba7c106c"
      },
      "execution_count": null,
      "outputs": [
        {
          "output_type": "execute_result",
          "data": {
            "text/plain": [
              "                      Algorithm   f1 Mean       std\n",
              "0                 Decision Tree  0.780725  0.110861\n",
              "1                 Random Forest  0.805431  0.066422\n",
              "2  Linear Discriminant Analysis  0.784785  0.103713\n",
              "3             Gradient Boosting  0.826985  0.075099\n",
              "4           Logistic Regression  0.784576  0.101816\n",
              "5                           SVM  0.793284  0.102048\n",
              "6        K Neighbors Classifier  0.833764  0.074383\n",
              "7                Neural Network  0.817617  0.086010"
            ],
            "text/html": [
              "\n",
              "  <div id=\"df-e65081d8-8101-4501-b63f-9305bdc56e4b\">\n",
              "    <div class=\"colab-df-container\">\n",
              "      <div>\n",
              "<style scoped>\n",
              "    .dataframe tbody tr th:only-of-type {\n",
              "        vertical-align: middle;\n",
              "    }\n",
              "\n",
              "    .dataframe tbody tr th {\n",
              "        vertical-align: top;\n",
              "    }\n",
              "\n",
              "    .dataframe thead th {\n",
              "        text-align: right;\n",
              "    }\n",
              "</style>\n",
              "<table border=\"1\" class=\"dataframe\">\n",
              "  <thead>\n",
              "    <tr style=\"text-align: right;\">\n",
              "      <th></th>\n",
              "      <th>Algorithm</th>\n",
              "      <th>f1 Mean</th>\n",
              "      <th>std</th>\n",
              "    </tr>\n",
              "  </thead>\n",
              "  <tbody>\n",
              "    <tr>\n",
              "      <th>0</th>\n",
              "      <td>Decision Tree</td>\n",
              "      <td>0.780725</td>\n",
              "      <td>0.110861</td>\n",
              "    </tr>\n",
              "    <tr>\n",
              "      <th>1</th>\n",
              "      <td>Random Forest</td>\n",
              "      <td>0.805431</td>\n",
              "      <td>0.066422</td>\n",
              "    </tr>\n",
              "    <tr>\n",
              "      <th>2</th>\n",
              "      <td>Linear Discriminant Analysis</td>\n",
              "      <td>0.784785</td>\n",
              "      <td>0.103713</td>\n",
              "    </tr>\n",
              "    <tr>\n",
              "      <th>3</th>\n",
              "      <td>Gradient Boosting</td>\n",
              "      <td>0.826985</td>\n",
              "      <td>0.075099</td>\n",
              "    </tr>\n",
              "    <tr>\n",
              "      <th>4</th>\n",
              "      <td>Logistic Regression</td>\n",
              "      <td>0.784576</td>\n",
              "      <td>0.101816</td>\n",
              "    </tr>\n",
              "    <tr>\n",
              "      <th>5</th>\n",
              "      <td>SVM</td>\n",
              "      <td>0.793284</td>\n",
              "      <td>0.102048</td>\n",
              "    </tr>\n",
              "    <tr>\n",
              "      <th>6</th>\n",
              "      <td>K Neighbors Classifier</td>\n",
              "      <td>0.833764</td>\n",
              "      <td>0.074383</td>\n",
              "    </tr>\n",
              "    <tr>\n",
              "      <th>7</th>\n",
              "      <td>Neural Network</td>\n",
              "      <td>0.817617</td>\n",
              "      <td>0.086010</td>\n",
              "    </tr>\n",
              "  </tbody>\n",
              "</table>\n",
              "</div>\n",
              "      <button class=\"colab-df-convert\" onclick=\"convertToInteractive('df-e65081d8-8101-4501-b63f-9305bdc56e4b')\"\n",
              "              title=\"Convert this dataframe to an interactive table.\"\n",
              "              style=\"display:none;\">\n",
              "        \n",
              "  <svg xmlns=\"http://www.w3.org/2000/svg\" height=\"24px\"viewBox=\"0 0 24 24\"\n",
              "       width=\"24px\">\n",
              "    <path d=\"M0 0h24v24H0V0z\" fill=\"none\"/>\n",
              "    <path d=\"M18.56 5.44l.94 2.06.94-2.06 2.06-.94-2.06-.94-.94-2.06-.94 2.06-2.06.94zm-11 1L8.5 8.5l.94-2.06 2.06-.94-2.06-.94L8.5 2.5l-.94 2.06-2.06.94zm10 10l.94 2.06.94-2.06 2.06-.94-2.06-.94-.94-2.06-.94 2.06-2.06.94z\"/><path d=\"M17.41 7.96l-1.37-1.37c-.4-.4-.92-.59-1.43-.59-.52 0-1.04.2-1.43.59L10.3 9.45l-7.72 7.72c-.78.78-.78 2.05 0 2.83L4 21.41c.39.39.9.59 1.41.59.51 0 1.02-.2 1.41-.59l7.78-7.78 2.81-2.81c.8-.78.8-2.07 0-2.86zM5.41 20L4 18.59l7.72-7.72 1.47 1.35L5.41 20z\"/>\n",
              "  </svg>\n",
              "      </button>\n",
              "      \n",
              "  <style>\n",
              "    .colab-df-container {\n",
              "      display:flex;\n",
              "      flex-wrap:wrap;\n",
              "      gap: 12px;\n",
              "    }\n",
              "\n",
              "    .colab-df-convert {\n",
              "      background-color: #E8F0FE;\n",
              "      border: none;\n",
              "      border-radius: 50%;\n",
              "      cursor: pointer;\n",
              "      display: none;\n",
              "      fill: #1967D2;\n",
              "      height: 32px;\n",
              "      padding: 0 0 0 0;\n",
              "      width: 32px;\n",
              "    }\n",
              "\n",
              "    .colab-df-convert:hover {\n",
              "      background-color: #E2EBFA;\n",
              "      box-shadow: 0px 1px 2px rgba(60, 64, 67, 0.3), 0px 1px 3px 1px rgba(60, 64, 67, 0.15);\n",
              "      fill: #174EA6;\n",
              "    }\n",
              "\n",
              "    [theme=dark] .colab-df-convert {\n",
              "      background-color: #3B4455;\n",
              "      fill: #D2E3FC;\n",
              "    }\n",
              "\n",
              "    [theme=dark] .colab-df-convert:hover {\n",
              "      background-color: #434B5C;\n",
              "      box-shadow: 0px 1px 3px 1px rgba(0, 0, 0, 0.15);\n",
              "      filter: drop-shadow(0px 1px 2px rgba(0, 0, 0, 0.3));\n",
              "      fill: #FFFFFF;\n",
              "    }\n",
              "  </style>\n",
              "\n",
              "      <script>\n",
              "        const buttonEl =\n",
              "          document.querySelector('#df-e65081d8-8101-4501-b63f-9305bdc56e4b button.colab-df-convert');\n",
              "        buttonEl.style.display =\n",
              "          google.colab.kernel.accessAllowed ? 'block' : 'none';\n",
              "\n",
              "        async function convertToInteractive(key) {\n",
              "          const element = document.querySelector('#df-e65081d8-8101-4501-b63f-9305bdc56e4b');\n",
              "          const dataTable =\n",
              "            await google.colab.kernel.invokeFunction('convertToInteractive',\n",
              "                                                     [key], {});\n",
              "          if (!dataTable) return;\n",
              "\n",
              "          const docLinkHtml = 'Like what you see? Visit the ' +\n",
              "            '<a target=\"_blank\" href=https://colab.research.google.com/notebooks/data_table.ipynb>data table notebook</a>'\n",
              "            + ' to learn more about interactive tables.';\n",
              "          element.innerHTML = '';\n",
              "          dataTable['output_type'] = 'display_data';\n",
              "          await google.colab.output.renderOutput(dataTable, element);\n",
              "          const docLink = document.createElement('div');\n",
              "          docLink.innerHTML = docLinkHtml;\n",
              "          element.appendChild(docLink);\n",
              "        }\n",
              "      </script>\n",
              "    </div>\n",
              "  </div>\n",
              "  "
            ]
          },
          "metadata": {},
          "execution_count": 486
        }
      ]
    },
    {
      "cell_type": "code",
      "source": [
        "# precision\n",
        "results_boxplot = []\n",
        "names = []\n",
        "results_mean = []\n",
        "results_std = []\n",
        "p,t = X_train, y_train.ravel()\n",
        "for name, model in models:\n",
        "    cv_results = cross_val_score(model, p,t, cv=cv,scoring='precision')\n",
        "    results_boxplot.append(cv_results)\n",
        "    results_mean.append(cv_results.mean())\n",
        "    results_std.append(cv_results.std())\n",
        "    names.append(name)\n",
        "pd.DataFrame({\"Algorithm\":names,\n",
        "                                \"precision Mean\":results_mean,\n",
        "                                \"std\":results_std})"
      ],
      "metadata": {
        "colab": {
          "base_uri": "https://localhost:8080/",
          "height": 300
        },
        "id": "Je9KR1XqxTIa",
        "outputId": "a8406c20-2f8c-4563-d026-e2f8d5784179"
      },
      "execution_count": null,
      "outputs": [
        {
          "output_type": "execute_result",
          "data": {
            "text/plain": [
              "                      Algorithm  precision Mean       std\n",
              "0                 Decision Tree        0.772223  0.116417\n",
              "1                 Random Forest        0.798593  0.085110\n",
              "2  Linear Discriminant Analysis        0.813456  0.109662\n",
              "3             Gradient Boosting        0.809934  0.091578\n",
              "4           Logistic Regression        0.820253  0.105560\n",
              "5                           SVM        0.798241  0.111142\n",
              "6        K Neighbors Classifier        0.840408  0.085075\n",
              "7                Neural Network        0.814550  0.106267"
            ],
            "text/html": [
              "\n",
              "  <div id=\"df-50813959-199b-408b-bcf0-f47fc5c3cf65\">\n",
              "    <div class=\"colab-df-container\">\n",
              "      <div>\n",
              "<style scoped>\n",
              "    .dataframe tbody tr th:only-of-type {\n",
              "        vertical-align: middle;\n",
              "    }\n",
              "\n",
              "    .dataframe tbody tr th {\n",
              "        vertical-align: top;\n",
              "    }\n",
              "\n",
              "    .dataframe thead th {\n",
              "        text-align: right;\n",
              "    }\n",
              "</style>\n",
              "<table border=\"1\" class=\"dataframe\">\n",
              "  <thead>\n",
              "    <tr style=\"text-align: right;\">\n",
              "      <th></th>\n",
              "      <th>Algorithm</th>\n",
              "      <th>precision Mean</th>\n",
              "      <th>std</th>\n",
              "    </tr>\n",
              "  </thead>\n",
              "  <tbody>\n",
              "    <tr>\n",
              "      <th>0</th>\n",
              "      <td>Decision Tree</td>\n",
              "      <td>0.772223</td>\n",
              "      <td>0.116417</td>\n",
              "    </tr>\n",
              "    <tr>\n",
              "      <th>1</th>\n",
              "      <td>Random Forest</td>\n",
              "      <td>0.798593</td>\n",
              "      <td>0.085110</td>\n",
              "    </tr>\n",
              "    <tr>\n",
              "      <th>2</th>\n",
              "      <td>Linear Discriminant Analysis</td>\n",
              "      <td>0.813456</td>\n",
              "      <td>0.109662</td>\n",
              "    </tr>\n",
              "    <tr>\n",
              "      <th>3</th>\n",
              "      <td>Gradient Boosting</td>\n",
              "      <td>0.809934</td>\n",
              "      <td>0.091578</td>\n",
              "    </tr>\n",
              "    <tr>\n",
              "      <th>4</th>\n",
              "      <td>Logistic Regression</td>\n",
              "      <td>0.820253</td>\n",
              "      <td>0.105560</td>\n",
              "    </tr>\n",
              "    <tr>\n",
              "      <th>5</th>\n",
              "      <td>SVM</td>\n",
              "      <td>0.798241</td>\n",
              "      <td>0.111142</td>\n",
              "    </tr>\n",
              "    <tr>\n",
              "      <th>6</th>\n",
              "      <td>K Neighbors Classifier</td>\n",
              "      <td>0.840408</td>\n",
              "      <td>0.085075</td>\n",
              "    </tr>\n",
              "    <tr>\n",
              "      <th>7</th>\n",
              "      <td>Neural Network</td>\n",
              "      <td>0.814550</td>\n",
              "      <td>0.106267</td>\n",
              "    </tr>\n",
              "  </tbody>\n",
              "</table>\n",
              "</div>\n",
              "      <button class=\"colab-df-convert\" onclick=\"convertToInteractive('df-50813959-199b-408b-bcf0-f47fc5c3cf65')\"\n",
              "              title=\"Convert this dataframe to an interactive table.\"\n",
              "              style=\"display:none;\">\n",
              "        \n",
              "  <svg xmlns=\"http://www.w3.org/2000/svg\" height=\"24px\"viewBox=\"0 0 24 24\"\n",
              "       width=\"24px\">\n",
              "    <path d=\"M0 0h24v24H0V0z\" fill=\"none\"/>\n",
              "    <path d=\"M18.56 5.44l.94 2.06.94-2.06 2.06-.94-2.06-.94-.94-2.06-.94 2.06-2.06.94zm-11 1L8.5 8.5l.94-2.06 2.06-.94-2.06-.94L8.5 2.5l-.94 2.06-2.06.94zm10 10l.94 2.06.94-2.06 2.06-.94-2.06-.94-.94-2.06-.94 2.06-2.06.94z\"/><path d=\"M17.41 7.96l-1.37-1.37c-.4-.4-.92-.59-1.43-.59-.52 0-1.04.2-1.43.59L10.3 9.45l-7.72 7.72c-.78.78-.78 2.05 0 2.83L4 21.41c.39.39.9.59 1.41.59.51 0 1.02-.2 1.41-.59l7.78-7.78 2.81-2.81c.8-.78.8-2.07 0-2.86zM5.41 20L4 18.59l7.72-7.72 1.47 1.35L5.41 20z\"/>\n",
              "  </svg>\n",
              "      </button>\n",
              "      \n",
              "  <style>\n",
              "    .colab-df-container {\n",
              "      display:flex;\n",
              "      flex-wrap:wrap;\n",
              "      gap: 12px;\n",
              "    }\n",
              "\n",
              "    .colab-df-convert {\n",
              "      background-color: #E8F0FE;\n",
              "      border: none;\n",
              "      border-radius: 50%;\n",
              "      cursor: pointer;\n",
              "      display: none;\n",
              "      fill: #1967D2;\n",
              "      height: 32px;\n",
              "      padding: 0 0 0 0;\n",
              "      width: 32px;\n",
              "    }\n",
              "\n",
              "    .colab-df-convert:hover {\n",
              "      background-color: #E2EBFA;\n",
              "      box-shadow: 0px 1px 2px rgba(60, 64, 67, 0.3), 0px 1px 3px 1px rgba(60, 64, 67, 0.15);\n",
              "      fill: #174EA6;\n",
              "    }\n",
              "\n",
              "    [theme=dark] .colab-df-convert {\n",
              "      background-color: #3B4455;\n",
              "      fill: #D2E3FC;\n",
              "    }\n",
              "\n",
              "    [theme=dark] .colab-df-convert:hover {\n",
              "      background-color: #434B5C;\n",
              "      box-shadow: 0px 1px 3px 1px rgba(0, 0, 0, 0.15);\n",
              "      filter: drop-shadow(0px 1px 2px rgba(0, 0, 0, 0.3));\n",
              "      fill: #FFFFFF;\n",
              "    }\n",
              "  </style>\n",
              "\n",
              "      <script>\n",
              "        const buttonEl =\n",
              "          document.querySelector('#df-50813959-199b-408b-bcf0-f47fc5c3cf65 button.colab-df-convert');\n",
              "        buttonEl.style.display =\n",
              "          google.colab.kernel.accessAllowed ? 'block' : 'none';\n",
              "\n",
              "        async function convertToInteractive(key) {\n",
              "          const element = document.querySelector('#df-50813959-199b-408b-bcf0-f47fc5c3cf65');\n",
              "          const dataTable =\n",
              "            await google.colab.kernel.invokeFunction('convertToInteractive',\n",
              "                                                     [key], {});\n",
              "          if (!dataTable) return;\n",
              "\n",
              "          const docLinkHtml = 'Like what you see? Visit the ' +\n",
              "            '<a target=\"_blank\" href=https://colab.research.google.com/notebooks/data_table.ipynb>data table notebook</a>'\n",
              "            + ' to learn more about interactive tables.';\n",
              "          element.innerHTML = '';\n",
              "          dataTable['output_type'] = 'display_data';\n",
              "          await google.colab.output.renderOutput(dataTable, element);\n",
              "          const docLink = document.createElement('div');\n",
              "          docLink.innerHTML = docLinkHtml;\n",
              "          element.appendChild(docLink);\n",
              "        }\n",
              "      </script>\n",
              "    </div>\n",
              "  </div>\n",
              "  "
            ]
          },
          "metadata": {},
          "execution_count": 487
        }
      ]
    },
    {
      "cell_type": "code",
      "source": [
        "# specificity\n",
        "specificity = make_scorer(recall_score, pos_label=0)\n",
        "results_boxplot = []\n",
        "names = []\n",
        "results_mean = []\n",
        "results_std = []\n",
        "p,t = X_train, y_train.ravel()\n",
        "for name, model in models:\n",
        "    cv_results = cross_val_score(model, p,t, cv=cv,scoring= specificity)\n",
        "    results_boxplot.append(cv_results)\n",
        "    results_mean.append(cv_results.mean())\n",
        "    results_std.append(cv_results.std())\n",
        "    names.append(name)\n",
        "pd.DataFrame({\"Algorithm\":names,\n",
        "                                \"specificity Mean\":results_mean,\n",
        "                                \"std\":results_std})"
      ],
      "metadata": {
        "colab": {
          "base_uri": "https://localhost:8080/",
          "height": 300
        },
        "id": "a1pbQWxNyyiu",
        "outputId": "985b283a-8b47-44cf-fc2c-ec2b02f27994"
      },
      "execution_count": null,
      "outputs": [
        {
          "output_type": "execute_result",
          "data": {
            "text/plain": [
              "                      Algorithm  specificity Mean       std\n",
              "0                 Decision Tree          0.843037  0.069096\n",
              "1                 Random Forest          0.860759  0.042938\n",
              "2  Linear Discriminant Analysis          0.881698  0.059281\n",
              "3             Gradient Boosting          0.863989  0.059663\n",
              "4           Logistic Regression          0.885486  0.060479\n",
              "5                           SVM          0.864885  0.058720\n",
              "6        K Neighbors Classifier          0.890486  0.050277\n",
              "7                Neural Network          0.869967  0.068659"
            ],
            "text/html": [
              "\n",
              "  <div id=\"df-bfba2100-7928-4042-b466-e35f0eacf731\">\n",
              "    <div class=\"colab-df-container\">\n",
              "      <div>\n",
              "<style scoped>\n",
              "    .dataframe tbody tr th:only-of-type {\n",
              "        vertical-align: middle;\n",
              "    }\n",
              "\n",
              "    .dataframe tbody tr th {\n",
              "        vertical-align: top;\n",
              "    }\n",
              "\n",
              "    .dataframe thead th {\n",
              "        text-align: right;\n",
              "    }\n",
              "</style>\n",
              "<table border=\"1\" class=\"dataframe\">\n",
              "  <thead>\n",
              "    <tr style=\"text-align: right;\">\n",
              "      <th></th>\n",
              "      <th>Algorithm</th>\n",
              "      <th>specificity Mean</th>\n",
              "      <th>std</th>\n",
              "    </tr>\n",
              "  </thead>\n",
              "  <tbody>\n",
              "    <tr>\n",
              "      <th>0</th>\n",
              "      <td>Decision Tree</td>\n",
              "      <td>0.843037</td>\n",
              "      <td>0.069096</td>\n",
              "    </tr>\n",
              "    <tr>\n",
              "      <th>1</th>\n",
              "      <td>Random Forest</td>\n",
              "      <td>0.860759</td>\n",
              "      <td>0.042938</td>\n",
              "    </tr>\n",
              "    <tr>\n",
              "      <th>2</th>\n",
              "      <td>Linear Discriminant Analysis</td>\n",
              "      <td>0.881698</td>\n",
              "      <td>0.059281</td>\n",
              "    </tr>\n",
              "    <tr>\n",
              "      <th>3</th>\n",
              "      <td>Gradient Boosting</td>\n",
              "      <td>0.863989</td>\n",
              "      <td>0.059663</td>\n",
              "    </tr>\n",
              "    <tr>\n",
              "      <th>4</th>\n",
              "      <td>Logistic Regression</td>\n",
              "      <td>0.885486</td>\n",
              "      <td>0.060479</td>\n",
              "    </tr>\n",
              "    <tr>\n",
              "      <th>5</th>\n",
              "      <td>SVM</td>\n",
              "      <td>0.864885</td>\n",
              "      <td>0.058720</td>\n",
              "    </tr>\n",
              "    <tr>\n",
              "      <th>6</th>\n",
              "      <td>K Neighbors Classifier</td>\n",
              "      <td>0.890486</td>\n",
              "      <td>0.050277</td>\n",
              "    </tr>\n",
              "    <tr>\n",
              "      <th>7</th>\n",
              "      <td>Neural Network</td>\n",
              "      <td>0.869967</td>\n",
              "      <td>0.068659</td>\n",
              "    </tr>\n",
              "  </tbody>\n",
              "</table>\n",
              "</div>\n",
              "      <button class=\"colab-df-convert\" onclick=\"convertToInteractive('df-bfba2100-7928-4042-b466-e35f0eacf731')\"\n",
              "              title=\"Convert this dataframe to an interactive table.\"\n",
              "              style=\"display:none;\">\n",
              "        \n",
              "  <svg xmlns=\"http://www.w3.org/2000/svg\" height=\"24px\"viewBox=\"0 0 24 24\"\n",
              "       width=\"24px\">\n",
              "    <path d=\"M0 0h24v24H0V0z\" fill=\"none\"/>\n",
              "    <path d=\"M18.56 5.44l.94 2.06.94-2.06 2.06-.94-2.06-.94-.94-2.06-.94 2.06-2.06.94zm-11 1L8.5 8.5l.94-2.06 2.06-.94-2.06-.94L8.5 2.5l-.94 2.06-2.06.94zm10 10l.94 2.06.94-2.06 2.06-.94-2.06-.94-.94-2.06-.94 2.06-2.06.94z\"/><path d=\"M17.41 7.96l-1.37-1.37c-.4-.4-.92-.59-1.43-.59-.52 0-1.04.2-1.43.59L10.3 9.45l-7.72 7.72c-.78.78-.78 2.05 0 2.83L4 21.41c.39.39.9.59 1.41.59.51 0 1.02-.2 1.41-.59l7.78-7.78 2.81-2.81c.8-.78.8-2.07 0-2.86zM5.41 20L4 18.59l7.72-7.72 1.47 1.35L5.41 20z\"/>\n",
              "  </svg>\n",
              "      </button>\n",
              "      \n",
              "  <style>\n",
              "    .colab-df-container {\n",
              "      display:flex;\n",
              "      flex-wrap:wrap;\n",
              "      gap: 12px;\n",
              "    }\n",
              "\n",
              "    .colab-df-convert {\n",
              "      background-color: #E8F0FE;\n",
              "      border: none;\n",
              "      border-radius: 50%;\n",
              "      cursor: pointer;\n",
              "      display: none;\n",
              "      fill: #1967D2;\n",
              "      height: 32px;\n",
              "      padding: 0 0 0 0;\n",
              "      width: 32px;\n",
              "    }\n",
              "\n",
              "    .colab-df-convert:hover {\n",
              "      background-color: #E2EBFA;\n",
              "      box-shadow: 0px 1px 2px rgba(60, 64, 67, 0.3), 0px 1px 3px 1px rgba(60, 64, 67, 0.15);\n",
              "      fill: #174EA6;\n",
              "    }\n",
              "\n",
              "    [theme=dark] .colab-df-convert {\n",
              "      background-color: #3B4455;\n",
              "      fill: #D2E3FC;\n",
              "    }\n",
              "\n",
              "    [theme=dark] .colab-df-convert:hover {\n",
              "      background-color: #434B5C;\n",
              "      box-shadow: 0px 1px 3px 1px rgba(0, 0, 0, 0.15);\n",
              "      filter: drop-shadow(0px 1px 2px rgba(0, 0, 0, 0.3));\n",
              "      fill: #FFFFFF;\n",
              "    }\n",
              "  </style>\n",
              "\n",
              "      <script>\n",
              "        const buttonEl =\n",
              "          document.querySelector('#df-bfba2100-7928-4042-b466-e35f0eacf731 button.colab-df-convert');\n",
              "        buttonEl.style.display =\n",
              "          google.colab.kernel.accessAllowed ? 'block' : 'none';\n",
              "\n",
              "        async function convertToInteractive(key) {\n",
              "          const element = document.querySelector('#df-bfba2100-7928-4042-b466-e35f0eacf731');\n",
              "          const dataTable =\n",
              "            await google.colab.kernel.invokeFunction('convertToInteractive',\n",
              "                                                     [key], {});\n",
              "          if (!dataTable) return;\n",
              "\n",
              "          const docLinkHtml = 'Like what you see? Visit the ' +\n",
              "            '<a target=\"_blank\" href=https://colab.research.google.com/notebooks/data_table.ipynb>data table notebook</a>'\n",
              "            + ' to learn more about interactive tables.';\n",
              "          element.innerHTML = '';\n",
              "          dataTable['output_type'] = 'display_data';\n",
              "          await google.colab.output.renderOutput(dataTable, element);\n",
              "          const docLink = document.createElement('div');\n",
              "          docLink.innerHTML = docLinkHtml;\n",
              "          element.appendChild(docLink);\n",
              "        }\n",
              "      </script>\n",
              "    </div>\n",
              "  </div>\n",
              "  "
            ]
          },
          "metadata": {},
          "execution_count": 488
        }
      ]
    },
    {
      "cell_type": "code",
      "source": [
        "# roc_auc\n",
        "results_boxplot = []\n",
        "names = []\n",
        "results_mean = []\n",
        "results_std = []\n",
        "p,t = X_train, y_train\n",
        "for name, model in models:\n",
        "    cv_results = cross_val_score(model, p,t, cv=cv,scoring='roc_auc')\n",
        "    results_boxplot.append(cv_results)\n",
        "    results_mean.append(cv_results.mean())\n",
        "    results_std.append(cv_results.std())\n",
        "    names.append(name)\n",
        "pd.DataFrame({\"Algorithm\":names,\n",
        "                                \"roc_auc Mean\":results_mean,\n",
        "                                \"std\":results_std})"
      ],
      "metadata": {
        "colab": {
          "base_uri": "https://localhost:8080/",
          "height": 300
        },
        "id": "vggAAzr2xfwQ",
        "outputId": "e783ec60-8f4e-4de6-d079-03f3cdbd1c37"
      },
      "execution_count": null,
      "outputs": [
        {
          "output_type": "execute_result",
          "data": {
            "text/plain": [
              "                      Algorithm  roc_auc Mean       std\n",
              "0                 Decision Tree      0.882073  0.043994\n",
              "1                 Random Forest      0.925634  0.031487\n",
              "2  Linear Discriminant Analysis      0.920527  0.047429\n",
              "3             Gradient Boosting      0.916224  0.034156\n",
              "4           Logistic Regression      0.920332  0.040450\n",
              "5                           SVM      0.917199  0.043919\n",
              "6        K Neighbors Classifier      0.922827  0.029033\n",
              "7                Neural Network      0.928039  0.031433"
            ],
            "text/html": [
              "\n",
              "  <div id=\"df-e5c70841-85e9-49c8-81c7-a0e9f6d0d64b\">\n",
              "    <div class=\"colab-df-container\">\n",
              "      <div>\n",
              "<style scoped>\n",
              "    .dataframe tbody tr th:only-of-type {\n",
              "        vertical-align: middle;\n",
              "    }\n",
              "\n",
              "    .dataframe tbody tr th {\n",
              "        vertical-align: top;\n",
              "    }\n",
              "\n",
              "    .dataframe thead th {\n",
              "        text-align: right;\n",
              "    }\n",
              "</style>\n",
              "<table border=\"1\" class=\"dataframe\">\n",
              "  <thead>\n",
              "    <tr style=\"text-align: right;\">\n",
              "      <th></th>\n",
              "      <th>Algorithm</th>\n",
              "      <th>roc_auc Mean</th>\n",
              "      <th>std</th>\n",
              "    </tr>\n",
              "  </thead>\n",
              "  <tbody>\n",
              "    <tr>\n",
              "      <th>0</th>\n",
              "      <td>Decision Tree</td>\n",
              "      <td>0.882073</td>\n",
              "      <td>0.043994</td>\n",
              "    </tr>\n",
              "    <tr>\n",
              "      <th>1</th>\n",
              "      <td>Random Forest</td>\n",
              "      <td>0.925634</td>\n",
              "      <td>0.031487</td>\n",
              "    </tr>\n",
              "    <tr>\n",
              "      <th>2</th>\n",
              "      <td>Linear Discriminant Analysis</td>\n",
              "      <td>0.920527</td>\n",
              "      <td>0.047429</td>\n",
              "    </tr>\n",
              "    <tr>\n",
              "      <th>3</th>\n",
              "      <td>Gradient Boosting</td>\n",
              "      <td>0.916224</td>\n",
              "      <td>0.034156</td>\n",
              "    </tr>\n",
              "    <tr>\n",
              "      <th>4</th>\n",
              "      <td>Logistic Regression</td>\n",
              "      <td>0.920332</td>\n",
              "      <td>0.040450</td>\n",
              "    </tr>\n",
              "    <tr>\n",
              "      <th>5</th>\n",
              "      <td>SVM</td>\n",
              "      <td>0.917199</td>\n",
              "      <td>0.043919</td>\n",
              "    </tr>\n",
              "    <tr>\n",
              "      <th>6</th>\n",
              "      <td>K Neighbors Classifier</td>\n",
              "      <td>0.922827</td>\n",
              "      <td>0.029033</td>\n",
              "    </tr>\n",
              "    <tr>\n",
              "      <th>7</th>\n",
              "      <td>Neural Network</td>\n",
              "      <td>0.928039</td>\n",
              "      <td>0.031433</td>\n",
              "    </tr>\n",
              "  </tbody>\n",
              "</table>\n",
              "</div>\n",
              "      <button class=\"colab-df-convert\" onclick=\"convertToInteractive('df-e5c70841-85e9-49c8-81c7-a0e9f6d0d64b')\"\n",
              "              title=\"Convert this dataframe to an interactive table.\"\n",
              "              style=\"display:none;\">\n",
              "        \n",
              "  <svg xmlns=\"http://www.w3.org/2000/svg\" height=\"24px\"viewBox=\"0 0 24 24\"\n",
              "       width=\"24px\">\n",
              "    <path d=\"M0 0h24v24H0V0z\" fill=\"none\"/>\n",
              "    <path d=\"M18.56 5.44l.94 2.06.94-2.06 2.06-.94-2.06-.94-.94-2.06-.94 2.06-2.06.94zm-11 1L8.5 8.5l.94-2.06 2.06-.94-2.06-.94L8.5 2.5l-.94 2.06-2.06.94zm10 10l.94 2.06.94-2.06 2.06-.94-2.06-.94-.94-2.06-.94 2.06-2.06.94z\"/><path d=\"M17.41 7.96l-1.37-1.37c-.4-.4-.92-.59-1.43-.59-.52 0-1.04.2-1.43.59L10.3 9.45l-7.72 7.72c-.78.78-.78 2.05 0 2.83L4 21.41c.39.39.9.59 1.41.59.51 0 1.02-.2 1.41-.59l7.78-7.78 2.81-2.81c.8-.78.8-2.07 0-2.86zM5.41 20L4 18.59l7.72-7.72 1.47 1.35L5.41 20z\"/>\n",
              "  </svg>\n",
              "      </button>\n",
              "      \n",
              "  <style>\n",
              "    .colab-df-container {\n",
              "      display:flex;\n",
              "      flex-wrap:wrap;\n",
              "      gap: 12px;\n",
              "    }\n",
              "\n",
              "    .colab-df-convert {\n",
              "      background-color: #E8F0FE;\n",
              "      border: none;\n",
              "      border-radius: 50%;\n",
              "      cursor: pointer;\n",
              "      display: none;\n",
              "      fill: #1967D2;\n",
              "      height: 32px;\n",
              "      padding: 0 0 0 0;\n",
              "      width: 32px;\n",
              "    }\n",
              "\n",
              "    .colab-df-convert:hover {\n",
              "      background-color: #E2EBFA;\n",
              "      box-shadow: 0px 1px 2px rgba(60, 64, 67, 0.3), 0px 1px 3px 1px rgba(60, 64, 67, 0.15);\n",
              "      fill: #174EA6;\n",
              "    }\n",
              "\n",
              "    [theme=dark] .colab-df-convert {\n",
              "      background-color: #3B4455;\n",
              "      fill: #D2E3FC;\n",
              "    }\n",
              "\n",
              "    [theme=dark] .colab-df-convert:hover {\n",
              "      background-color: #434B5C;\n",
              "      box-shadow: 0px 1px 3px 1px rgba(0, 0, 0, 0.15);\n",
              "      filter: drop-shadow(0px 1px 2px rgba(0, 0, 0, 0.3));\n",
              "      fill: #FFFFFF;\n",
              "    }\n",
              "  </style>\n",
              "\n",
              "      <script>\n",
              "        const buttonEl =\n",
              "          document.querySelector('#df-e5c70841-85e9-49c8-81c7-a0e9f6d0d64b button.colab-df-convert');\n",
              "        buttonEl.style.display =\n",
              "          google.colab.kernel.accessAllowed ? 'block' : 'none';\n",
              "\n",
              "        async function convertToInteractive(key) {\n",
              "          const element = document.querySelector('#df-e5c70841-85e9-49c8-81c7-a0e9f6d0d64b');\n",
              "          const dataTable =\n",
              "            await google.colab.kernel.invokeFunction('convertToInteractive',\n",
              "                                                     [key], {});\n",
              "          if (!dataTable) return;\n",
              "\n",
              "          const docLinkHtml = 'Like what you see? Visit the ' +\n",
              "            '<a target=\"_blank\" href=https://colab.research.google.com/notebooks/data_table.ipynb>data table notebook</a>'\n",
              "            + ' to learn more about interactive tables.';\n",
              "          element.innerHTML = '';\n",
              "          dataTable['output_type'] = 'display_data';\n",
              "          await google.colab.output.renderOutput(dataTable, element);\n",
              "          const docLink = document.createElement('div');\n",
              "          docLink.innerHTML = docLinkHtml;\n",
              "          element.appendChild(docLink);\n",
              "        }\n",
              "      </script>\n",
              "    </div>\n",
              "  </div>\n",
              "  "
            ]
          },
          "metadata": {},
          "execution_count": 489
        }
      ]
    },
    {
      "cell_type": "markdown",
      "source": [
        "cross_validate each model independently with the defined performance measures, just to check if the same scores will be returned like running diffrent models for a specific measure. "
      ],
      "metadata": {
        "id": "reIkwNXIA065"
      }
    },
    {
      "cell_type": "code",
      "source": [
        "\n",
        "from sklearn.model_selection import cross_validate\n",
        "scoring = {\n",
        "    'accuracy': make_scorer(accuracy_score),\n",
        "    'sensitivity': make_scorer(recall_score),\n",
        "    'f1': make_scorer(f1_score),\n",
        "    'precision': make_scorer(precision_score),\n",
        "    'specificity': make_scorer(recall_score,pos_label=0),\n",
        "    'roc_auc': make_scorer(roc_auc_score)\n",
        "}\n"
      ],
      "metadata": {
        "id": "xZTMcHWZ1LJs"
      },
      "execution_count": null,
      "outputs": []
    },
    {
      "cell_type": "code",
      "source": [
        "#LDA\n",
        "scores = cross_validate(lda, X_train,y_train, cv=cv,\n",
        "                         scoring=scoring,\n",
        "                        return_train_score=False)\n",
        "sorted(scores.keys())\n"
      ],
      "metadata": {
        "colab": {
          "base_uri": "https://localhost:8080/"
        },
        "id": "h5VIc4f6IoCr",
        "outputId": "f807a810-3875-4e95-bd87-b4d93bcc1708"
      },
      "execution_count": null,
      "outputs": [
        {
          "output_type": "execute_result",
          "data": {
            "text/plain": [
              "['fit_time',\n",
              " 'score_time',\n",
              " 'test_accuracy',\n",
              " 'test_f1',\n",
              " 'test_precision',\n",
              " 'test_roc_auc',\n",
              " 'test_sensitivity',\n",
              " 'test_specificity']"
            ]
          },
          "metadata": {},
          "execution_count": 491
        }
      ]
    },
    {
      "cell_type": "code",
      "source": [
        "print('accuracy',scores['test_accuracy'].mean())\n",
        "print('f1',scores['test_f1'].mean())\n",
        "print('precision',scores['test_precision'].mean())\n",
        "print('recall',scores['test_sensitivity'].mean())\n",
        "print('specificity',scores['test_specificity'].mean())\n",
        "#print('roc_auc',scores['test_roc_auc'].mean())"
      ],
      "metadata": {
        "colab": {
          "base_uri": "https://localhost:8080/"
        },
        "id": "PLlE1ACFJoQo",
        "outputId": "99b7f96e-9b7e-4d64-e36f-aca661dba109"
      },
      "execution_count": null,
      "outputs": [
        {
          "output_type": "stream",
          "name": "stdout",
          "text": [
            "accuracy 0.8354251012145749\n",
            "f1 0.7847845708321115\n",
            "precision 0.8134562006620829\n",
            "recall 0.7638302139037434\n",
            "specificity 0.8816978078705768\n"
          ]
        }
      ]
    },
    {
      "cell_type": "code",
      "source": [
        "#DT\n",
        "dt_scores = cross_validate(dt, X_train,y_train, cv=cv,\n",
        "                         scoring=scoring,\n",
        "                        return_train_score=False)\n",
        "sorted(dt_scores.keys())\n",
        "\n",
        "print('accuracy',dt_scores['test_accuracy'].mean())\n",
        "print('f1',dt_scores['test_f1'].mean())\n",
        "print('precision',dt_scores['test_precision'].mean())\n",
        "print('recall',dt_scores['test_sensitivity'].mean())\n",
        "print('specificity',dt_scores['test_specificity'].mean())\n"
      ],
      "metadata": {
        "id": "TZEFz47bKzvt",
        "colab": {
          "base_uri": "https://localhost:8080/"
        },
        "outputId": "f5960e34-5410-4ad2-cc75-14dfeb86ba98"
      },
      "execution_count": null,
      "outputs": [
        {
          "output_type": "stream",
          "name": "stdout",
          "text": [
            "accuracy 0.8276653171390013\n",
            "f1 0.7807246501134851\n",
            "precision 0.7722228429465272\n",
            "recall 0.7948923054070113\n",
            "specificity 0.8430374464928241\n"
          ]
        }
      ]
    },
    {
      "cell_type": "code",
      "source": [
        "#RF\n",
        "scores = cross_validate(rf, X_train,y_train, cv=cv,\n",
        "                         scoring=scoring,\n",
        "                        return_train_score=False)\n",
        "sorted(scores.keys())\n",
        "\n",
        "print('accuracy',scores['test_accuracy'].mean())\n",
        "print('f1',scores['test_f1'].mean())\n",
        "print('precision',scores['test_precision'].mean())\n",
        "print('recall',scores['test_sensitivity'].mean())\n",
        "print('specificity',scores['test_specificity'].mean())\n"
      ],
      "metadata": {
        "colab": {
          "base_uri": "https://localhost:8080/"
        },
        "id": "V6guvCgkLB0-",
        "outputId": "bb5f3706-9c19-45a1-b810-e46016692560"
      },
      "execution_count": null,
      "outputs": [
        {
          "output_type": "stream",
          "name": "stdout",
          "text": [
            "accuracy 0.8432523616734142\n",
            "f1 0.8054311251811251\n",
            "precision 0.7985925267542915\n",
            "recall 0.8162544563279857\n",
            "specificity 0.8607590726927112\n"
          ]
        }
      ]
    },
    {
      "cell_type": "code",
      "source": [
        "#GB\n",
        "scores = cross_validate(gb, X_train,y_train, cv=cv,\n",
        "                         scoring=scoring,\n",
        "                        return_train_score=False)\n",
        "sorted(scores.keys())\n",
        "\n",
        "print('accuracy',scores['test_accuracy'].mean())\n",
        "print('f1',scores['test_f1'].mean())\n",
        "print('precision',scores['test_precision'].mean())\n",
        "print('recall',scores['test_sensitivity'].mean())\n",
        "print('specificity',scores['test_specificity'].mean())\n"
      ],
      "metadata": {
        "colab": {
          "base_uri": "https://localhost:8080/"
        },
        "id": "5b_MHhPwLHP9",
        "outputId": "7c83594e-2a9a-47dd-c30e-2d6c34e91214"
      },
      "execution_count": null,
      "outputs": [
        {
          "output_type": "stream",
          "name": "stdout",
          "text": [
            "accuracy 0.8584345479082321\n",
            "f1 0.8294286097511904\n",
            "precision 0.8096696286169971\n",
            "recall 0.8552064765300059\n",
            "specificity 0.85963353156717\n"
          ]
        }
      ]
    },
    {
      "cell_type": "code",
      "source": [
        "#LR\n",
        "scores = cross_validate(lr, X_train,y_train, cv=cv,\n",
        "                         scoring=scoring,\n",
        "                        return_train_score=False)\n",
        "sorted(scores.keys())\n",
        "\n",
        "print('accuracy',scores['test_accuracy'].mean())\n",
        "print('f1',scores['test_f1'].mean())\n",
        "print('precision',scores['test_precision'].mean())\n",
        "print('recall',scores['test_sensitivity'].mean())\n",
        "print('specificity',scores['test_specificity'].mean())\n"
      ],
      "metadata": {
        "colab": {
          "base_uri": "https://localhost:8080/"
        },
        "id": "RRHaTFxLLLCh",
        "outputId": "31b972fe-4eb6-43aa-f300-6d99f04a3908"
      },
      "execution_count": null,
      "outputs": [
        {
          "output_type": "stream",
          "name": "stdout",
          "text": [
            "accuracy 0.8354251012145747\n",
            "f1 0.7845757600350655\n",
            "precision 0.8202527374586197\n",
            "recall 0.7588302139037435\n",
            "specificity 0.8854856866584555\n"
          ]
        }
      ]
    },
    {
      "cell_type": "code",
      "source": [
        "#SVM\n",
        "scores = cross_validate(svm, X_train,y_train, cv=cv,\n",
        "                         scoring=scoring,\n",
        "                        return_train_score=False)\n",
        "sorted(scores.keys())\n",
        "\n",
        "print('accuracy',scores['test_accuracy'].mean())\n",
        "print('f1',scores['test_f1'].mean())\n",
        "print('precision',scores['test_precision'].mean())\n",
        "print('recall',scores['test_sensitivity'].mean())\n",
        "print('specificity',scores['test_specificity'].mean())\n"
      ],
      "metadata": {
        "colab": {
          "base_uri": "https://localhost:8080/"
        },
        "id": "o_bi6nONLOkg",
        "outputId": "cec13806-6fb0-4364-a21d-f3319d7c2413"
      },
      "execution_count": null,
      "outputs": [
        {
          "output_type": "stream",
          "name": "stdout",
          "text": [
            "accuracy 0.8379892037786775\n",
            "f1 0.7932844927950317\n",
            "precision 0.7982405094905094\n",
            "recall 0.7949145870469401\n",
            "specificity 0.8648852725797805\n"
          ]
        }
      ]
    },
    {
      "cell_type": "code",
      "source": [
        "#KNN\n",
        "scores = cross_validate(knn, X_train,y_train, cv=cv,\n",
        "                         scoring=scoring,\n",
        "                        return_train_score=False)\n",
        "sorted(scores.keys())\n",
        "\n",
        "print('accuracy',scores['test_accuracy'].mean())\n",
        "print('f1',scores['test_f1'].mean())\n",
        "print('precision',scores['test_precision'].mean())\n",
        "print('recall',scores['test_sensitivity'].mean())\n",
        "print('specificity',scores['test_specificity'].mean())\n"
      ],
      "metadata": {
        "colab": {
          "base_uri": "https://localhost:8080/"
        },
        "id": "M8cQX8h1LR9X",
        "outputId": "c176fce2-4429-4cb2-a05f-05f59037433d"
      },
      "execution_count": null,
      "outputs": [
        {
          "output_type": "stream",
          "name": "stdout",
          "text": [
            "accuracy 0.8663292847503374\n",
            "f1 0.8337640431235018\n",
            "precision 0.8404075091575093\n",
            "recall 0.8335888294711824\n",
            "specificity 0.8904856866584556\n"
          ]
        }
      ]
    },
    {
      "cell_type": "code",
      "source": [
        "#MLP\n",
        "scores = cross_validate(nn, X_train,y_train, cv=cv,\n",
        "                         scoring=scoring,\n",
        "                        return_train_score=False)\n",
        "sorted(scores.keys())\n",
        "\n",
        "print('accuracy',scores['test_accuracy'].mean())\n",
        "print('f1',scores['test_f1'].mean())\n",
        "print('precision',scores['test_precision'].mean())\n",
        "print('recall',scores['test_sensitivity'].mean())\n",
        "print('specificity',scores['test_specificity'].mean())\n"
      ],
      "metadata": {
        "colab": {
          "base_uri": "https://localhost:8080/"
        },
        "id": "UrCEV_DeLVl_",
        "outputId": "3e692177-fa15-4b91-b5a3-2fc1e707aa88"
      },
      "execution_count": null,
      "outputs": [
        {
          "output_type": "stream",
          "name": "stdout",
          "text": [
            "accuracy 0.8534412955465587\n",
            "f1 0.8176173773517228\n",
            "precision 0.8145501213612668\n",
            "recall 0.8309989601901366\n",
            "specificity 0.8699672710542277\n"
          ]
        }
      ]
    },
    {
      "cell_type": "code",
      "source": [
        "'''\n",
        "Pkl_Filename = \"rf_model.pkl\"  \n",
        "\n",
        "with open(Pkl_Filename, 'wb') as file:  \n",
        "    pickle.dump(rf, file)\n",
        "'''"
      ],
      "metadata": {
        "id": "yKT6j2CbDP_y",
        "colab": {
          "base_uri": "https://localhost:8080/",
          "height": 36
        },
        "outputId": "c25644ba-fe03-476a-95d3-644a2c9c4c3a"
      },
      "execution_count": null,
      "outputs": [
        {
          "output_type": "execute_result",
          "data": {
            "text/plain": [
              "'\\nPkl_Filename = \"rf_model.pkl\"  \\n\\nwith open(Pkl_Filename, \\'wb\\') as file:  \\n    pickle.dump(rf, file)\\n'"
            ],
            "application/vnd.google.colaboratory.intrinsic+json": {
              "type": "string"
            }
          },
          "metadata": {},
          "execution_count": 500
        }
      ]
    }
  ]
}