{
  "nbformat": 4,
  "nbformat_minor": 0,
  "metadata": {
    "colab": {
      "name": "unet_plus_plus_2d.ipynb",
      "provenance": []
    },
    "kernelspec": {
      "name": "python3",
      "display_name": "Python 3"
    },
    "language_info": {
      "name": "python"
    }
  },
  "cells": [
    {
      "cell_type": "code",
      "source": [
        "!pip install keras-unet-collection"
      ],
      "metadata": {
        "id": "8ld9_XQAreFL"
      },
      "execution_count": null,
      "outputs": []
    },
    {
      "cell_type": "code",
      "source": [
        "import tensorflow as tf\n",
        "import os\n",
        "import sys\n",
        "import numpy as np\n",
        "import pandas as pd  \n",
        "from tqdm import tqdm\n",
        "from itertools import chain\n",
        "from skimage.io import imread, imshow\n",
        "from skimage.transform import resize\n",
        "import random\n",
        "import matplotlib.pyplot as plt\n",
        "import time\n",
        "import tensorflow_hub as hub\n",
        "from google.colab import drive\n",
        "from tensorflow.keras.optimizers import Adam\n",
        "from tensorflow import keras\n",
        "from keras_unet_collection import models, losses\n",
        "from datetime import datetime "
      ],
      "metadata": {
        "id": "cVKJQpo4rhF3"
      },
      "execution_count": null,
      "outputs": []
    },
    {
      "cell_type": "code",
      "source": [
        "from google.colab import drive\n",
        "drive.mount('/content/drive')"
      ],
      "metadata": {
        "colab": {
          "base_uri": "https://localhost:8080/"
        },
        "id": "kOxxD3-XMf8P",
        "outputId": "02b12601-3e55-46d3-cd34-8cdb0beea0f7"
      },
      "execution_count": null,
      "outputs": [
        {
          "output_type": "stream",
          "name": "stdout",
          "text": [
            "Mounted at /content/drive\n"
          ]
        }
      ]
    },
    {
      "cell_type": "code",
      "source": [
        "#pre-processing and check all images and masks correctly read\n",
        "IMG_WIDTH = 512\n",
        "IMG_HEIGHT = 256\n",
        "IMG_CHANNELS = 1\n",
        " \n",
        "DATA_PATH = '/path--/images/' # Training original images\n",
        "Mask_path1= '/path--/masks/'   # Segmentation Map\n",
        "\n",
        "\n",
        "seed = 42\n",
        "random.seed = seed\n",
        "np.random.seed = seed\n",
        " \n",
        "image_ids = next(os.walk(DATA_PATH))[2]\n",
        "\n",
        "len(image_ids)\n",
        "X = np.zeros((len(image_ids), IMG_HEIGHT, IMG_WIDTH), dtype=np.uint8)\n",
        "Y = np.zeros((len(image_ids), IMG_HEIGHT, IMG_WIDTH, 1), dtype=bool)\n",
        "\n",
        "print('resizing training images and masks')\n",
        "for n, id_ in tqdm(enumerate(image_ids), total=len(image_ids)):\n",
        "  try:\n",
        "    path = DATA_PATH \n",
        "    img = imread(path+ id_)[:,:]\n",
        "    img = resize(img, (IMG_HEIGHT, IMG_WIDTH), mode='constant', preserve_range=True)\n",
        "    X[n] = img\n",
        "    mask = np.zeros((IMG_HEIGHT, IMG_WIDTH, 1), dtype=bool)\n",
        "    for mask_file in next(os.walk(Mask_path1))[2]:\n",
        "      if mask_file==id_:\n",
        "        #print(Mask_path1 +  mask_file)\n",
        "        mask_ = imread(Mask_path1 + mask_file)\n",
        "        mask_ = np.expand_dims(resize(mask_, (IMG_HEIGHT, IMG_WIDTH), mode='constant',\n",
        "                                      preserve_range=True), axis=-1)\n",
        "        mask = np.maximum(mask, mask_)\n",
        "\n",
        "    Y[n] = mask\n",
        "  except:\n",
        "    print('error')\n",
        "\n",
        "x_train=X \n",
        "y_train=Y\n",
        "\n",
        "print('Done!')\n",
        "\n",
        "image_x = random.randint(0, len(image_ids))\n",
        "imshow(x_train[image_x])\n",
        "plt.show()\n",
        "imshow(np.squeeze(y_train[image_x])+1)\n",
        "plt.show()"
      ],
      "metadata": {
        "id": "UnG8X7K9rsip"
      },
      "execution_count": null,
      "outputs": []
    },
    {
      "cell_type": "code",
      "source": [
        "#test images\n",
        "TEST_PATH = '/path--/testing_set/images/'\n",
        "\n",
        "test_ids = next(os.walk(TEST_PATH))[2]\n",
        "\n",
        "len(test_ids)\n",
        "X_test = np.zeros((len(test_ids), IMG_HEIGHT, IMG_WIDTH), dtype=np.uint8)\n",
        "\n",
        "sizes_test=[]\n",
        "print('resizing training images')\n",
        "for n, id_ in tqdm(enumerate(test_ids), total=len(test_ids)):\n",
        "  path = TEST_PATH \n",
        "  img = imread(path+ id_)[:,:]\n",
        "  sizes_test.append([img.shape[0],img.shape[1]])\n",
        "  img = resize(img, (IMG_HEIGHT, IMG_WIDTH), mode='constant', preserve_range=True)\n",
        "  X_test[n]=img \n",
        "\n",
        "#X_test=X \n",
        "#y_test=Y"
      ],
      "metadata": {
        "id": "pb5UWu7hrvu3"
      },
      "execution_count": null,
      "outputs": []
    },
    {
      "cell_type": "code",
      "source": [
        "num_labels = 1  #Binary\n",
        "input_shape = (IMG_HEIGHT,IMG_WIDTH,IMG_CHANNELS)\n",
        "batch_size = 10"
      ],
      "metadata": {
        "id": "VX3VI8FaOxUc"
      },
      "execution_count": null,
      "outputs": []
    },
    {
      "cell_type": "code",
      "source": [
        "help(models.unet_plus_2d)"
      ],
      "metadata": {
        "id": "QPQ4r_jZU63x"
      },
      "execution_count": null,
      "outputs": []
    },
    {
      "cell_type": "code",
      "source": [
        "#!pip install git+https://github.com/qubvel/segmentation_models"
      ],
      "metadata": {
        "id": "XWO2fSEvtAII"
      },
      "execution_count": null,
      "outputs": []
    },
    {
      "cell_type": "code",
      "source": [
        "#import segmentation_models as sm"
      ],
      "metadata": {
        "colab": {
          "base_uri": "https://localhost:8080/"
        },
        "id": "ObMSzulZs0DD",
        "outputId": "4ab1d521-91d7-4b4a-89e2-ff64b10a3e0a"
      },
      "execution_count": null,
      "outputs": [
        {
          "output_type": "stream",
          "name": "stdout",
          "text": [
            "Segmentation Models: using `keras` framework.\n"
          ]
        }
      ]
    },
    {
      "cell_type": "code",
      "source": [
        "model_Unet_plus = models.unet_plus_2d((256, 512, 1), filter_num=[16,32,64, 128, 256], \n",
        "                           n_labels=num_labels, \n",
        "                           stack_num_down=2, stack_num_up=2, \n",
        "                           activation='ReLU', \n",
        "                           output_activation='Sigmoid', \n",
        "                           batch_norm=True, pool=False, unpool=False, \n",
        "                           backbone=None, weights=None,freeze_backbone=True, freeze_batch_norm=True,\n",
        "                           name='unet_plus')\n",
        "\n",
        "model_Unet_plus.compile(loss='binary_crossentropy', optimizer='adam', \n",
        "              metrics=['accuracy', losses.dice])\n",
        "\n",
        "print(model_Unet_plus.summary())"
      ],
      "metadata": {
        "id": "qzvCnZ5GU_HK"
      },
      "execution_count": null,
      "outputs": []
    },
    {
      "cell_type": "code",
      "source": [
        "start2 = datetime.now() \n",
        "callbacks= [tf.keras.callbacks.EarlyStopping(patience=5, monitor='loss')]#monitor='val_loss'\n",
        "Unet_plus_history = model_Unet_plus.fit(x_train, y_train, \n",
        "                    verbose=1,\n",
        "                    batch_size = batch_size,\n",
        "                    #validation_split=0.1, \n",
        "                    shuffle=False,\n",
        "                    epochs=50, callbacks=callbacks)\n",
        "\n",
        "stop2 = datetime.now()\n",
        "#Execution time of the model \n",
        "execution_time_Unet_plus = stop2-start2\n",
        "print(\"UNet plus execution time is: \", execution_time_Unet_plus)"
      ],
      "metadata": {
        "id": "vYhvcLsPWP5H"
      },
      "execution_count": null,
      "outputs": []
    },
    {
      "cell_type": "code",
      "source": [
        "t = time.time()\n",
        "my_keras_model_filepath = '3rdm_UNet_plus_50epochs_3.h5'.format(int(t))\n",
        "print(my_keras_model_filepath)\n",
        "model_Unet_plus.save(my_keras_model_filepath)"
      ],
      "metadata": {
        "id": "s5EAC_KRtPKV"
      },
      "execution_count": null,
      "outputs": []
    },
    {
      "cell_type": "code",
      "source": [
        "unet_plus_history_df = pd.DataFrame(Unet_plus_history.history) "
      ],
      "metadata": {
        "id": "ynz6LTx4n0Wc"
      },
      "execution_count": null,
      "outputs": []
    },
    {
      "cell_type": "code",
      "source": [
        "with open('unet_plus_history_df_3.csv', mode='w') as f:\n",
        "    unet_plus_history_df.to_csv(f)"
      ],
      "metadata": {
        "id": "rIQkWGmEn-bD"
      },
      "execution_count": null,
      "outputs": []
    },
    {
      "cell_type": "code",
      "source": [
        "history = Unet_plus_history"
      ],
      "metadata": {
        "id": "y3_9EaCcoKLX"
      },
      "execution_count": null,
      "outputs": []
    },
    {
      "cell_type": "code",
      "source": [
        "loss = history.history['loss']\n",
        "val_loss = history.history['val_loss']\n",
        "epochs = range(1, len(loss) + 1)\n",
        "plt.plot(epochs, loss, 'y', label='Training loss')\n",
        "plt.plot(epochs, val_loss, 'r', label='Validation loss')\n",
        "plt.title('Training and validation loss')\n",
        "plt.xlabel('Epochs')\n",
        "plt.ylabel('Loss')\n",
        "plt.legend()\n",
        "plt.show()\n",
        "\n",
        "acc = history.history['dice']\n",
        "#acc = history.history['accuracy']\n",
        "val_acc = history.history['val_dice']\n",
        "#val_acc = history.history['val_accuracy']\n",
        "\n",
        "plt.plot(epochs, acc, 'y', label='Training Dice')\n",
        "plt.plot(epochs, val_acc, 'r', label='Validation Dice')\n",
        "plt.title('Training and validation Dice')\n",
        "plt.xlabel('Epochs')\n",
        "plt.ylabel('Dice')\n",
        "plt.legend()\n",
        "plt.show()"
      ],
      "metadata": {
        "id": "JklRY794oOWX"
      },
      "execution_count": null,
      "outputs": []
    },
    {
      "cell_type": "code",
      "source": [
        "model = model_Unet_plus"
      ],
      "metadata": {
        "id": "nj3Ghz7foVJF"
      },
      "execution_count": null,
      "outputs": []
    },
    {
      "cell_type": "code",
      "source": [
        "idx = random.randint(0, len(x_train))\n",
        "preds_train = model.predict(x_train[:int(x_train.shape[0]*0.9)], verbose=1)\n",
        "preds_val = model.predict(x_train[int(x_train.shape[0]*0.9):], verbose=1)\n",
        "preds_test = model.predict(X_test, verbose=1)\n",
        "\n",
        "preds_train_t = (preds_train > 0.5).astype(np.uint8)\n",
        "preds_val_t = (preds_val > 0.5).astype(np.uint8)\n",
        "preds_test_t = (preds_test > 0.5).astype(np.uint8)"
      ],
      "metadata": {
        "id": "_Okmha8At96Y"
      },
      "execution_count": null,
      "outputs": []
    },
    {
      "cell_type": "code",
      "source": [
        "ix = random.randint(0, len(preds_test_t))\n",
        "imshow(X_test[ix])\n",
        "plt.show()\n",
        "imshow(np.squeeze(preds_test_t[ix]))\n",
        "plt.show()"
      ],
      "metadata": {
        "id": "w7cqvMzNt-p_"
      },
      "execution_count": null,
      "outputs": []
    },
    {
      "cell_type": "markdown",
      "source": [
        "#Support References:\n",
        "\n",
        "\n",
        "*   https://github.com/bnsreenu/python_for_microscopists/blob/master/227_mito_segm_using_models_from_Keras_Unet_collection.py\n",
        "*   https://pypi.org/project/keras-unet-collection/\n",
        "*   https://github.com/yingkaisha/keras-unet-collection/blob/main/examples/user_guide_models.ipynb\n",
        "*   https://www.youtube.com/watch?v=ZoJuhRbzEiM\n",
        "\n",
        "\n",
        "\n",
        "\n",
        "\n",
        "\n"
      ],
      "metadata": {
        "id": "Yl8wIq0ubsuM"
      }
    }
  ]
}