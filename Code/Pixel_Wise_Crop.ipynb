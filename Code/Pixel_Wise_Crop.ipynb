{
  "nbformat": 4,
  "nbformat_minor": 0,
  "metadata": {
    "colab": {
      "name": "Pixel_Wise_Crop.ipynb",
      "provenance": [],
      "collapsed_sections": [],
      "authorship_tag": "ABX9TyMpAV4VTWn/iin00owJBROS"
    },
    "kernelspec": {
      "name": "python3",
      "display_name": "Python 3"
    },
    "language_info": {
      "name": "python"
    }
  },
  "cells": [
    {
      "cell_type": "code",
      "execution_count": 7,
      "metadata": {
        "colab": {
          "base_uri": "https://localhost:8080/",
          "height": 303
        },
        "id": "u8QhT4ezfkRG",
        "outputId": "6773bca6-4ce1-4af3-f7ea-f5cecd6dab58"
      },
      "outputs": [
        {
          "output_type": "stream",
          "name": "stdout",
          "text": [
            "left:  (0, 0) , right: (255, 190)\n",
            "top:   (0, 0) , bottom:(178, 255)\n"
          ]
        },
        {
          "output_type": "display_data",
          "data": {
            "image/png": "[encoded data removed]",
            "text/plain": [
              "<Figure size 432x288 with 1 Axes>"
            ]
          },
          "metadata": {
            "needs_background": "light"
          }
        }
      ],
      "source": [
        "import cv2 \n",
        "import numpy as np\n",
        "import glob,os\n",
        "from matplotlib import pyplot as plt\n",
        "from PIL import Image\n",
        "#---------------------------#\n",
        "inputdir = \"/content/\"\n",
        "outputdir= \"/content/\"\n",
        "        \n",
        "for img1 in sorted(glob.glob( inputdir + \"*.jpg\")):\n",
        "        \n",
        "        img_path = img1.split('/')[-1]\n",
        "        imgstr = img_path.split('.')[0]\n",
        "        \n",
        "        im1 = cv2.imread(img1,0)\n",
        "        thresh = cv2.threshold(im1, 100, 255, cv2.THRESH_BINARY)[1]\n",
        "        #calculates nonzero pixels \n",
        "        x, y, w, h = cv2.boundingRect(im1)\n",
        "\n",
        "        left = (x, np.argmax(thresh[:, x]))             \n",
        "        right = (x+w-1, np.argmax(thresh[:, x+w-1]))    \n",
        "        top = (np.argmax(thresh[y, :]), y)              \n",
        "        bottom = (np.argmax(thresh[y+h-1, :]), y+h-1) \n",
        "        \n",
        "        print('left:  {}'.format(left),',','right: {}'.format(right))\n",
        "        print('top:   {}'.format(top),',','bottom:{}'.format(bottom))\n",
        "        \n",
        "        cropped__img = thresh[top[1]:bottom[1], left[0]:right[0]]\n",
        "        cropped__img = cv2.resize(cropped__img, (256,256), interpolation=cv2.INTER_LINEAR)\n",
        "#---------------------------#\n",
        "        save_fname = os.path.join(outputdir, os.path.basename(imgstr)+'.jpg')\n",
        "        cv2.imwrite(save_fname, cropped__img)\n",
        "        plt.imshow(cropped__img)"
      ]
    }
  ]
}
