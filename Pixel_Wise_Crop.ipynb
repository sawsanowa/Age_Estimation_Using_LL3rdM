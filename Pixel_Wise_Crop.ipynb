{
  "nbformat": 4,
  "nbformat_minor": 0,
  "metadata": {
    "colab": {
      "name": "Pixel_Wise_Crop.ipynb",
      "provenance": [],
      "authorship_tag": "ABX9TyN7hWZHpDW3QHLD7s4zlPO3"
    },
    "kernelspec": {
      "name": "python3",
      "display_name": "Python 3"
    },
    "language_info": {
      "name": "python"
    }
  },
  "cells": [
    {
      "cell_type": "code",
      "execution_count": 1,
      "metadata": {
        "colab": {
          "base_uri": "https://localhost:8080/",
          "height": 356
        },
        "id": "u8QhT4ezfkRG",
        "outputId": "d25f0772-ff5a-4b48-a4fe-b4b6af60b78d"
      },
      "outputs": [
        {
          "output_type": "stream",
          "name": "stdout",
          "text": [
            "28-23F\n",
            "left: (0, 0)\n",
            "right: (255, 196)\n",
            "top: (0, 0)\n",
            "bottom: (0, 255)\n"
          ]
        },
        {
          "output_type": "display_data",
          "data": {
            "image/png": "[encoded data removed]",
            "text/plain": [
              "<Figure size 432x288 with 1 Axes>"
            ]
          },
          "metadata": {
            "needs_background": "light"
          }
        }
      ],
      "source": [
        "import cv2 \n",
        "import numpy as np\n",
        "import glob,os\n",
        "from matplotlib import pyplot as plt\n",
        "from PIL import Image\n",
        "    \n",
        "inputdir = \"/content/\"\n",
        "outputdir = \"/content/\"\n",
        "        \n",
        "for img1 in sorted(glob.glob( inputdir + \"*.jpg\")):\n",
        "        \n",
        "        img_path = img1.split('/')[-1]\n",
        "        imgstr = img_path.split('.')[0]\n",
        "        \n",
        "        print(imgstr)\n",
        "        im1 = cv2.imread(img1,0)\n",
        "        thresh = cv2.threshold(im1, 100, 255, cv2.THRESH_BINARY)[1]\n",
        "        #calculates nonzero pixels \n",
        "        x, y, w, h = cv2.boundingRect(im1)\n",
        "\n",
        "        left = (x, np.argmax(thresh[:, x]))             \n",
        "        right = (x+w-1, np.argmax(thresh[:, x+w-1]))    \n",
        "        top = (np.argmax(thresh[y, :]), y)              \n",
        "        bottom = (np.argmax(thresh[y+h-1, :]), y+h-1) \n",
        "        \n",
        "        print('left: {}'.format(left))\n",
        "        print('right: {}'.format(right))\n",
        "        print('top: {}'.format(top))\n",
        "        print('bottom: {}'.format(bottom))\n",
        "        \n",
        "        cropped__img = thresh[top[1]:bottom[1], left[0]:right[0]]\n",
        "        cropped__img = cv2.resize(cropped__img, (256,256), interpolation=cv2.INTER_LINEAR)\n",
        "        \n",
        "        save_fname = os.path.join(outputdir, os.path.basename(imgstr)+'.jpg')\n",
        "        cv2.imwrite(save_fname, cropped__img)\n",
        "        plt.imshow(cropped__img)"
      ]
    }
  ]
}