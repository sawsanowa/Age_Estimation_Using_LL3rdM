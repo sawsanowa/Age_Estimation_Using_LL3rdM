{
  "nbformat": 4,
  "nbformat_minor": 0,
  "metadata": {
    "colab": {
      "name": "Part2:LL3rdM_Measurements.ipynb",
      "provenance": [],
      "authorship_tag": "ABX9TyOO6gUij0bM/RsfXHgjur3T"
    },
    "kernelspec": {
      "name": "python3",
      "display_name": "Python 3"
    },
    "language_info": {
      "name": "python"
    }
  },
  "cells": [
    {
      "cell_type": "code",
      "metadata": {
        "id": "7Vy8DJ5pApgW",
        "colab": {
          "base_uri": "https://localhost:8080/"
        },
        "outputId": "d1b5809d-e3d1-456f-9d26-dc2b6da28f4f"
      },
      "source": [
        "!pip3 install imutils\n"
      ],
      "execution_count": null,
      "outputs": [
        {
          "output_type": "stream",
          "name": "stdout",
          "text": [
            "Requirement already satisfied: imutils in /usr/local/lib/python3.7/dist-packages (0.5.4)\n"
          ]
        }
      ]
    },
    {
      "cell_type": "code",
      "metadata": {
        "id": "77bSBut2_ocV"
      },
      "source": [
        "import cv2\n",
        "import imutils\n",
        "import imutils.perspective as persp\n",
        "import scipy.spatial.distance as dist\n",
        "import matplotlib.pyplot as plt\n",
        "import numpy as np\n",
        "import os\n"
      ],
      "execution_count": null,
      "outputs": []
    },
    {
      "cell_type": "code",
      "metadata": {
        "colab": {
          "base_uri": "https://localhost:8080/",
          "height": 52
        },
        "id": "aHZQSrbGB5C7",
        "outputId": "631e5416-3393-48c2-edf0-1bfd2d33e413"
      },
      "source": [
        "img_path='/content/'\n",
        "os.chdir(img_path)\n",
        "img=cv2.imread(\"/content/m78_m.jpg\")\n",
        "rgb_img=cv2.cvtColor(img,cv2.COLOR_BGR2RGB)\n",
        "plt.figure(figsize=(15,15))\n",
        "#plt.imshow(rgb_img)\n",
        "#plt.show()"
      ],
      "execution_count": null,
      "outputs": [
        {
          "output_type": "execute_result",
          "data": {
            "text/plain": [
              "<Figure size 1080x1080 with 0 Axes>"
            ]
          },
          "metadata": {},
          "execution_count": 52
        },
        {
          "output_type": "display_data",
          "data": {
            "text/plain": [
              "<Figure size 1080x1080 with 0 Axes>"
            ]
          },
          "metadata": {}
        }
      ]
    },
    {
      "cell_type": "code",
      "metadata": {
        "id": "N81VkszeDE67"
      },
      "source": [
        "gray=cv2.cvtColor(img,cv2.COLOR_BGR2GRAY)\n",
        "rgb_img=cv2.cvtColor(gray,cv2.COLOR_BGR2RGB)\n",
        "#plt.imshow(rgb_img)"
      ],
      "execution_count": null,
      "outputs": []
    },
    {
      "cell_type": "code",
      "metadata": {
        "id": "ZEEi6Y0cDsiR"
      },
      "source": [
        "thresh,thresh_img=cv2.threshold(gray,110,255,cv2.THRESH_BINARY)\n",
        "rgb_img=cv2.cvtColor(thresh_img,cv2.COLOR_BGR2RGB)\n",
        "#plt.imshow(rgb_img)"
      ],
      "execution_count": null,
      "outputs": []
    },
    {
      "cell_type": "code",
      "metadata": {
        "colab": {
          "base_uri": "https://localhost:8080/"
        },
        "id": "L8xkEW6YEHel",
        "outputId": "d58c246e-ad41-4219-9b1c-ba903c4154ed"
      },
      "source": [
        "conts=cv2.findContours(thresh_img,cv2.RETR_TREE,cv2.CHAIN_APPROX_SIMPLE)\n",
        "print(\"total conturs\", len(conts))\n",
        "conts= imutils.grab_contours(conts)\n",
        "print(\"total conturs\", len(conts))"
      ],
      "execution_count": null,
      "outputs": [
        {
          "output_type": "stream",
          "name": "stdout",
          "text": [
            "total conturs 2\n",
            "total conturs 1\n"
          ]
        }
      ]
    },
    {
      "cell_type": "code",
      "metadata": {
        "id": "fXhSTwrgFHzE"
      },
      "source": [
        "cont_img=np.zeros(img.shape)\n",
        "#plt.imshow(cont_img)"
      ],
      "execution_count": null,
      "outputs": []
    },
    {
      "cell_type": "code",
      "metadata": {
        "colab": {
          "base_uri": "https://localhost:8080/",
          "height": 303
        },
        "id": "VktaC58aFmMg",
        "outputId": "88a8884a-5afd-40db-bec9-a2d1fbdbd52e"
      },
      "source": [
        "cont_img=cv2.drawContours(cont_img,conts,-1,(0,255,0),2)\n",
        "plt.imshow(cont_img)"
      ],
      "execution_count": null,
      "outputs": [
        {
          "output_type": "stream",
          "name": "stderr",
          "text": [
            "Clipping input data to the valid range for imshow with RGB data ([0..1] for floats or [0..255] for integers).\n"
          ]
        },
        {
          "output_type": "execute_result",
          "data": {
            "text/plain": [
              "<matplotlib.image.AxesImage at 0x7fd0a6e89790>"
            ]
          },
          "metadata": {},
          "execution_count": 57
        },
        {
          "output_type": "display_data",
          "data": {
            "image/png": "[encoded data removed]",
            "text/plain": [
              "<Figure size 432x288 with 1 Axes>"
            ]
          },
          "metadata": {
            "needs_background": "light"
          }
        }
      ]
    },
    {
      "cell_type": "code",
      "metadata": {
        "colab": {
          "base_uri": "https://localhost:8080/",
          "height": 884
        },
        "id": "KpMPhg05F-aD",
        "outputId": "b68e5a1e-a786-4993-94a4-f4bbc2071da0"
      },
      "source": [
        "cont_img=np.zeros(img.shape)\n",
        "def midPoint(ptA,ptB):\n",
        "  return ((ptA[0]+ptB[0])/2, (ptA[1]+ptB[1])/2)\n",
        "\n",
        "for c in conts:\n",
        "  box=cv2.minAreaRect(c)\n",
        "  #print(box)\n",
        "  box=cv2.boxPoints(box)\n",
        "  box=np.array(box,dtype='int')\n",
        "\n",
        "  if cv2.contourArea(c) < 900:\n",
        "    continue\n",
        "\n",
        "  cv2.drawContours(cont_img,[c],-1,(0,255,0),2)\n",
        "  cv2.drawContours(cont_img,[box],-1,(255,255,255),1)\n",
        "\n",
        "  #print(box)\n",
        "\n",
        "  for (x,y) in box:\n",
        "    #print(x,y)\n",
        "    cv2.circle(cont_img,(x,y),2,(255,0,0),2)\n",
        "    (tl,tr,br,bl)=box\n",
        "#rigth-left\n",
        "    (tlX,trX)= midPoint(tl,tr)\n",
        "    (brX,blX)= midPoint(br,bl)\n",
        "\n",
        "    cv2.circle(cont_img,(int(tlX),int(trX)),1,(255,0,0),2)\n",
        "    cv2.circle(cont_img,(int(brX),int(blX)),1,(255,0,0),2) \n",
        " #connect mid points using line \n",
        "    cv2.line(cont_img,(int(tlX),int(trX)),(int(brX),int(blX)),(255,255,255),1)   \n",
        "\n",
        "    #calculate the distance on the midpoints\n",
        "\n",
        "dA=dist.euclidean((tlX,trX),(brX,blX))\n",
        "\n",
        "#cv2.putText(cont_img, \"{:.1f} mm\".format(dA*0.08221083073205848),(int(tlX-10),int(trX-10)), cv2.FONT_HERSHEY_SIMPLEX,0.4,(255,255,255),1)\n",
        "#top-bottom\n",
        "(tlX,trX)= midPoint(tl, bl)\n",
        "(brX,blX)= midPoint(tr,br)\n",
        "\n",
        "cv2.circle(cont_img,(int(tlX),int(trX)),1,(255,0,0),2)\n",
        "cv2.circle(cont_img,(int(brX),int(blX)),1,(255,0,0),2) \n",
        "\n",
        " #connect mid points using line \n",
        "cv2.line(cont_img,(int(tlX),int(trX)),(int(brX),int(blX)),(255,255,255),1)\n",
        "\n",
        "\n",
        "#calculate the distance on the midpoints\n",
        "\n",
        "dB=dist.euclidean((tlX,trX),(brX,blX))\n",
        "\n",
        "#print size on pix on each conture rectangel \n",
        "\n",
        "cv2.putText(cont_img, \"{:.1f} mm\".format(dB*0.08221083073205848),(int(brX+10),int(blX+10)), cv2.FONT_HERSHEY_SIMPLEX,0.4,(255,255,255),1)\n",
        "\n",
        "\n",
        "plt.figure(figsize=(15,15))\n",
        "plt.imshow(cont_img)\n",
        "plt.show()\n"
      ],
      "execution_count": null,
      "outputs": [
        {
          "output_type": "stream",
          "name": "stderr",
          "text": [
            "Clipping input data to the valid range for imshow with RGB data ([0..1] for floats or [0..255] for integers).\n"
          ]
        },
        {
          "output_type": "display_data",
          "data": {
            "image/png": "[encoded data removed]",
            "text/plain": [
              "<Figure size 1080x1080 with 1 Axes>"
            ]
          },
          "metadata": {
            "needs_background": "light"
          }
        }
      ]
    }
  ]
}